{
 "cells": [
  {
   "cell_type": "markdown",
   "metadata": {},
   "source": [
    "https://www.sciencedirect.com/science/article/pii/S0378437108009485"
   ]
  },
  {
   "cell_type": "code",
   "execution_count": 4,
   "metadata": {
    "ExecuteTime": {
     "end_time": "2019-02-14T19:14:09.860086Z",
     "start_time": "2019-02-14T19:14:09.723195Z"
    }
   },
   "outputs": [
    {
     "name": "stdout",
     "output_type": "stream",
     "text": [
      "The autoreload extension is already loaded. To reload it, use:\n",
      "  %reload_ext autoreload\n"
     ]
    }
   ],
   "source": [
    "%load_ext autoreload\n",
    "%autoreload 2"
   ]
  },
  {
   "cell_type": "markdown",
   "metadata": {},
   "source": [
    "# Grafos temporales (Temporal graphs)"
   ]
  },
  {
   "cell_type": "markdown",
   "metadata": {},
   "source": [
    "## Proximidad temporal (Temporal proximity)"
   ]
  },
  {
   "cell_type": "markdown",
   "metadata": {},
   "source": [
    "### Setup"
   ]
  },
  {
   "cell_type": "markdown",
   "metadata": {},
   "source": [
    "Importar las librerías de trabajo:"
   ]
  },
  {
   "cell_type": "code",
   "execution_count": 5,
   "metadata": {
    "ExecuteTime": {
     "end_time": "2019-02-14T19:14:10.003447Z",
     "start_time": "2019-02-14T19:14:09.862823Z"
    }
   },
   "outputs": [],
   "source": [
    "import networkx as nx\n",
    "import datetime\n",
    "import pandas as pd\n",
    "import sys\n",
    "\n",
    "sys.path.append(\"..\")\n",
    "from temporal_graph import TemporalGraph"
   ]
  },
  {
   "cell_type": "markdown",
   "metadata": {},
   "source": [
    "Generamos la data (data ejemplo del paper de Kostakos).\n",
    "\n",
    "La diferencia de tiempo, la expresamos en días:"
   ]
  },
  {
   "cell_type": "code",
   "execution_count": 6,
   "metadata": {
    "ExecuteTime": {
     "end_time": "2019-02-14T19:14:10.135093Z",
     "start_time": "2019-02-14T19:14:10.006438Z"
    }
   },
   "outputs": [],
   "source": [
    "tiempos = [(2018, 12, 31),\n",
    "           (2019, 1, 1),\n",
    "           (2019, 1, 3),\n",
    "           (2019, 1, 5),\n",
    "           (2019, 1, 9),\n",
    "           (2019, 1, 14),\n",
    "           (2019, 1, 20)]"
   ]
  },
  {
   "cell_type": "code",
   "execution_count": 7,
   "metadata": {
    "ExecuteTime": {
     "end_time": "2019-02-14T19:14:11.270085Z",
     "start_time": "2019-02-14T19:14:10.138085Z"
    }
   },
   "outputs": [
    {
     "data": {
      "text/html": [
       "<div>\n",
       "<style scoped>\n",
       "    .dataframe tbody tr th:only-of-type {\n",
       "        vertical-align: middle;\n",
       "    }\n",
       "\n",
       "    .dataframe tbody tr th {\n",
       "        vertical-align: top;\n",
       "    }\n",
       "\n",
       "    .dataframe thead th {\n",
       "        text-align: right;\n",
       "    }\n",
       "</style>\n",
       "<table border=\"1\" class=\"dataframe\">\n",
       "  <thead>\n",
       "    <tr style=\"text-align: right;\">\n",
       "      <th></th>\n",
       "      <th>sender</th>\n",
       "      <th>recipient</th>\n",
       "      <th>time</th>\n",
       "    </tr>\n",
       "  </thead>\n",
       "  <tbody>\n",
       "    <tr>\n",
       "      <th>0</th>\n",
       "      <td>A</td>\n",
       "      <td>B</td>\n",
       "      <td>2018-12-31</td>\n",
       "    </tr>\n",
       "    <tr>\n",
       "      <th>1</th>\n",
       "      <td>A</td>\n",
       "      <td>C, E</td>\n",
       "      <td>2019-01-01</td>\n",
       "    </tr>\n",
       "    <tr>\n",
       "      <th>2</th>\n",
       "      <td>E</td>\n",
       "      <td>D</td>\n",
       "      <td>2019-01-03</td>\n",
       "    </tr>\n",
       "    <tr>\n",
       "      <th>3</th>\n",
       "      <td>B</td>\n",
       "      <td>C</td>\n",
       "      <td>2019-01-05</td>\n",
       "    </tr>\n",
       "    <tr>\n",
       "      <th>4</th>\n",
       "      <td>B</td>\n",
       "      <td>D</td>\n",
       "      <td>2019-01-09</td>\n",
       "    </tr>\n",
       "    <tr>\n",
       "      <th>5</th>\n",
       "      <td>D</td>\n",
       "      <td>B</td>\n",
       "      <td>2019-01-14</td>\n",
       "    </tr>\n",
       "    <tr>\n",
       "      <th>6</th>\n",
       "      <td>A</td>\n",
       "      <td>D</td>\n",
       "      <td>2019-01-20</td>\n",
       "    </tr>\n",
       "  </tbody>\n",
       "</table>\n",
       "</div>"
      ],
      "text/plain": [
       "  sender recipient       time\n",
       "0      A         B 2018-12-31\n",
       "1      A      C, E 2019-01-01\n",
       "2      E         D 2019-01-03\n",
       "3      B         C 2019-01-05\n",
       "4      B         D 2019-01-09\n",
       "5      D         B 2019-01-14\n",
       "6      A         D 2019-01-20"
      ]
     },
     "execution_count": 7,
     "metadata": {},
     "output_type": "execute_result"
    }
   ],
   "source": [
    "data = pd.DataFrame({\n",
    "    'sender': ['A', 'A', 'E', 'B', 'B', 'D', 'A'],\n",
    "    'recipient': ['B', 'C, E', 'D', 'C', 'D', 'B', 'D'],\n",
    "    'time': [ datetime.datetime(A, mes, dia) for (A, mes, dia) in tiempos]\n",
    "})\n",
    "data"
   ]
  },
  {
   "cell_type": "markdown",
   "metadata": {},
   "source": [
    "Con esta data, creamos el grafo temporal: "
   ]
  },
  {
   "cell_type": "markdown",
   "metadata": {},
   "source": [
    "<div class=\"alert alert-info\">\n",
    "<h4>Creación del grafo temporal</h4>\n",
    "<p>Necesitamos enviarle al constructor ``todos`` los tiempos que entran en juego en la vida del grafo.</p>\n",
    "<p>Con esto, el grafo temporal crea las columnas donde se ubicarán las instancia de los nodos.</p>\n",
    "</div>"
   ]
  },
  {
   "cell_type": "code",
   "execution_count": 8,
   "metadata": {
    "ExecuteTime": {
     "end_time": "2019-02-14T19:14:11.461552Z",
     "start_time": "2019-02-14T19:14:11.273040Z"
    }
   },
   "outputs": [],
   "source": [
    "grafo_temporal = TemporalGraph(data.time)  # nuevo grafo temporal con los tiempos indicados"
   ]
  },
  {
   "cell_type": "markdown",
   "metadata": {},
   "source": [
    "Con el grafo temporal construido, creamos las instancias y los enlaces desde la data de ejemplo:"
   ]
  },
  {
   "cell_type": "code",
   "execution_count": 9,
   "metadata": {
    "ExecuteTime": {
     "end_time": "2019-02-14T19:14:11.659009Z",
     "start_time": "2019-02-14T19:14:11.466523Z"
    },
    "scrolled": true
   },
   "outputs": [
    {
     "name": "stdout",
     "output_type": "stream",
     "text": [
      "Enlace:  A B 2018-12-31 00:00:00 A1\n",
      "Enlace:  A C 2019-01-01 00:00:00 A2\n",
      "Enlace:  A E 2019-01-01 00:00:00 A2\n",
      "Enlace:  E D 2019-01-03 00:00:00 E3\n",
      "Enlace:  B C 2019-01-05 00:00:00 B4\n",
      "Enlace:  B D 2019-01-09 00:00:00 B5\n",
      "Enlace:  D B 2019-01-14 00:00:00 D6\n",
      "Enlace:  A D 2019-01-20 00:00:00 A7\n"
     ]
    }
   ],
   "source": [
    "grafo_temporal.build_links_from_data(data=data)  #  ( verbose mode on )"
   ]
  },
  {
   "cell_type": "markdown",
   "metadata": {},
   "source": [
    "Y dibujamos para verificar la correcta creación de los enlaces:"
   ]
  },
  {
   "cell_type": "code",
   "execution_count": 10,
   "metadata": {
    "ExecuteTime": {
     "end_time": "2019-02-14T19:14:13.049097Z",
     "start_time": "2019-02-14T19:14:11.662998Z"
    }
   },
   "outputs": [
    {
     "name": "stdout",
     "output_type": "stream",
     "text": [
      "Positions 15 nodes\n"
     ]
    },
    {
     "name": "stderr",
     "output_type": "stream",
     "text": [
      "C:\\ProgramData\\Anaconda3\\lib\\site-packages\\networkx\\drawing\\nx_pylab.py:611: MatplotlibDeprecationWarning: isinstance(..., numbers.Number)\n",
      "  if cb.is_numlike(alpha):\n"
     ]
    },
    {
     "data": {
      "image/png": "[encoded data removed]",
      "text/plain": [
       "<Figure size 1440x1008 with 1 Axes>"
      ]
     },
     "metadata": {},
     "output_type": "display_data"
    },
    {
     "data": {
      "text/plain": [
       "<networkx.classes.digraph.DiGraph at 0x1bda1e4ddd8>"
      ]
     },
     "execution_count": 10,
     "metadata": {},
     "output_type": "execute_result"
    }
   ],
   "source": [
    "grafo_temporal.plot()"
   ]
  },
  {
   "cell_type": "markdown",
   "metadata": {},
   "source": [
    "### Caminos (paths):"
   ]
  },
  {
   "cell_type": "markdown",
   "metadata": {},
   "source": [
    "#### Instancias de los nodos:"
   ]
  },
  {
   "cell_type": "markdown",
   "metadata": {},
   "source": [
    "Para trabajar con los caminos entre nodos, se construyeron los métodos: \n",
    "- *_get_first_instance_after_time*\n",
    "- *_get_last_instance_before_time*\n",
    "\n",
    "\n",
    "que reciben un nodo y un tiempo y retornan la primera instancia del nodo indicado desde/hasta el tiempo recibido, respectivamente, y que se utilizarán para calcular las distancias temporales entre dos nodos (un nodo puede tener muchas instancias)."
   ]
  },
  {
   "cell_type": "code",
   "execution_count": 11,
   "metadata": {
    "ExecuteTime": {
     "end_time": "2019-02-14T19:14:13.207865Z",
     "start_time": "2019-02-14T19:14:13.052282Z"
    }
   },
   "outputs": [
    {
     "data": {
      "text/plain": [
       "'D5'"
      ]
     },
     "execution_count": 11,
     "metadata": {},
     "output_type": "execute_result"
    }
   ],
   "source": [
    "grafo_temporal._get_first_instance_after_time('D', 5)"
   ]
  },
  {
   "cell_type": "code",
   "execution_count": 12,
   "metadata": {
    "ExecuteTime": {
     "end_time": "2019-02-14T19:14:13.374420Z",
     "start_time": "2019-02-14T19:14:13.210857Z"
    },
    "scrolled": true
   },
   "outputs": [
    {
     "data": {
      "text/plain": [
       "'D3'"
      ]
     },
     "execution_count": 12,
     "metadata": {},
     "output_type": "execute_result"
    }
   ],
   "source": [
    "grafo_temporal._get_last_instance_before_time('D', 4)"
   ]
  },
  {
   "cell_type": "code",
   "execution_count": 13,
   "metadata": {
    "ExecuteTime": {
     "end_time": "2019-02-14T19:14:13.539980Z",
     "start_time": "2019-02-14T19:14:13.377634Z"
    }
   },
   "outputs": [
    {
     "name": "stdout",
     "output_type": "stream",
     "text": [
      "Excepcion:\n",
      " No se puede encontrar una instancia del nodo \"D\" posterior al tiempo 9 recibido\n"
     ]
    }
   ],
   "source": [
    "try:\n",
    "    grafo_temporal._get_first_instance_after_time('D', 9)\n",
    "except Exception as e:\n",
    "    print('Excepcion:\\n', e)"
   ]
  },
  {
   "cell_type": "markdown",
   "metadata": {},
   "source": [
    "Sin \"tiempo desde\", *_get_first_instance_after_time* devuelve la primera instancia encontrada:"
   ]
  },
  {
   "cell_type": "code",
   "execution_count": 14,
   "metadata": {
    "ExecuteTime": {
     "end_time": "2019-02-14T19:14:13.718677Z",
     "start_time": "2019-02-14T19:14:13.542969Z"
    }
   },
   "outputs": [
    {
     "data": {
      "text/plain": [
       "'D3'"
      ]
     },
     "execution_count": 14,
     "metadata": {},
     "output_type": "execute_result"
    }
   ],
   "source": [
    "grafo_temporal._get_first_instance_after_time('D')"
   ]
  },
  {
   "cell_type": "markdown",
   "metadata": {},
   "source": [
    "Sin \"tiempo hasta\", *_get_last_instance_before_time* devuelve la última instancia encontrada:"
   ]
  },
  {
   "cell_type": "code",
   "execution_count": 15,
   "metadata": {
    "ExecuteTime": {
     "end_time": "2019-02-14T19:14:13.886074Z",
     "start_time": "2019-02-14T19:14:13.721493Z"
    }
   },
   "outputs": [
    {
     "data": {
      "text/plain": [
       "'C4'"
      ]
     },
     "execution_count": 15,
     "metadata": {},
     "output_type": "execute_result"
    }
   ],
   "source": [
    "grafo_temporal._get_last_instance_before_time('C')"
   ]
  },
  {
   "cell_type": "markdown",
   "metadata": {},
   "source": [
    "Pruebas con nodos que no tienen instancias en los tiempos indicados:"
   ]
  },
  {
   "cell_type": "code",
   "execution_count": 16,
   "metadata": {
    "ExecuteTime": {
     "end_time": "2019-02-14T19:14:14.052605Z",
     "start_time": "2019-02-14T19:14:13.889043Z"
    }
   },
   "outputs": [
    {
     "data": {
      "text/plain": [
       "'D3'"
      ]
     },
     "execution_count": 16,
     "metadata": {},
     "output_type": "execute_result"
    }
   ],
   "source": [
    "grafo_temporal._get_last_instance_before_time('D', 4)"
   ]
  },
  {
   "cell_type": "code",
   "execution_count": 17,
   "metadata": {
    "ExecuteTime": {
     "end_time": "2019-02-14T19:14:14.230143Z",
     "start_time": "2019-02-14T19:14:14.055786Z"
    }
   },
   "outputs": [
    {
     "data": {
      "text/plain": [
       "'A2'"
      ]
     },
     "execution_count": 17,
     "metadata": {},
     "output_type": "execute_result"
    }
   ],
   "source": [
    "grafo_temporal._get_last_instance_before_time('A', 5)"
   ]
  },
  {
   "cell_type": "code",
   "execution_count": 18,
   "metadata": {
    "ExecuteTime": {
     "end_time": "2019-02-14T19:14:14.404665Z",
     "start_time": "2019-02-14T19:14:14.234671Z"
    }
   },
   "outputs": [
    {
     "data": {
      "text/plain": [
       "'B4'"
      ]
     },
     "execution_count": 18,
     "metadata": {},
     "output_type": "execute_result"
    }
   ],
   "source": [
    "grafo_temporal._get_first_instance_after_time('B', 2)"
   ]
  },
  {
   "cell_type": "markdown",
   "metadata": {},
   "source": [
    "-------------------------------------------------"
   ]
  },
  {
   "cell_type": "markdown",
   "metadata": {},
   "source": [
    "# Proximidad temporal:"
   ]
  },
  {
   "cell_type": "markdown",
   "metadata": {},
   "source": [
    "En nuestro caso, como nos manejamos con distancias de días, la distancia entre fechas python (datetime.datetime), nos retorna una cantidad en segundos.\n",
    "\n",
    "Por lo cuál, generamos una funcion que nos pase una cantidad de tiempo en segundos a una cantidad de tiempo en días:"
   ]
  },
  {
   "cell_type": "code",
   "execution_count": 19,
   "metadata": {
    "ExecuteTime": {
     "end_time": "2019-02-14T19:14:14.579436Z",
     "start_time": "2019-02-14T19:14:14.407744Z"
    }
   },
   "outputs": [],
   "source": [
    "def seconds_to_days(seconds):\n",
    "    if seconds is None:\n",
    "        return None\n",
    "    return (seconds / 3600) / 24"
   ]
  },
  {
   "cell_type": "markdown",
   "metadata": {},
   "source": [
    "La distancia temporal entre un nodo X y un nodo Y está definida por:\n",
    "    \n",
    "- p(X,Y,t<sub>a</sub>,t<sub>b</sub>) \n",
    "    \n",
    "donde t<sub>a</sub> es una precondición temporal y t<sub>b</sub> es una postcondicion temporal.\n",
    "\n",
    "Ambas condiciones temporales (t<sub>a</sub> y t<sub>b</sub>) pueden tener un valor o ser null. Lo que nos deja 4 posibles casos."
   ]
  },
  {
   "cell_type": "markdown",
   "metadata": {},
   "source": [
    "### p(A,D,t<sub>i</sub>,t<sub>j</sub>): \n",
    "\n",
    "The shortest path between some instance of A, e.g. At2, and some instance of D, e.g. Dt7.\n",
    "\n",
    "This example is equivalent to p(A,D,t<sub>2</sub>,t<sub>7</sub>) and intuitively means:\n",
    "\n",
    "- “Given t<sub>2</sub>, find the shortest path from A to D such that D is reached at t<sub>7</sub>”.\n",
    "\n",
    "In this case, the shortest path has weight w(At<sub>2</sub>,At<sub>7</sub>,Dt<sub>7</sub>) = 19, which translates back to AD."
   ]
  },
  {
   "cell_type": "code",
   "execution_count": 20,
   "metadata": {
    "ExecuteTime": {
     "end_time": "2019-02-14T19:14:14.767374Z",
     "start_time": "2019-02-14T19:14:14.584195Z"
    },
    "scrolled": true
   },
   "outputs": [
    {
     "data": {
      "text/plain": [
       "['A2', 'A7', 'D7']"
      ]
     },
     "execution_count": 20,
     "metadata": {},
     "output_type": "execute_result"
    }
   ],
   "source": [
    "shortest_path_from_A_to_D_at_2_to_7 = grafo_temporal.temporal_proximity('A', 'D', 2, 7)\n",
    "shortest_path_from_A_to_D_at_2_to_7"
   ]
  },
  {
   "cell_type": "markdown",
   "metadata": {},
   "source": [
    "Peso del camino (segundos):"
   ]
  },
  {
   "cell_type": "code",
   "execution_count": 21,
   "metadata": {
    "ExecuteTime": {
     "end_time": "2019-02-14T19:14:14.945915Z",
     "start_time": "2019-02-14T19:14:14.769688Z"
    }
   },
   "outputs": [
    {
     "data": {
      "text/plain": [
       "1641600.0"
      ]
     },
     "execution_count": 21,
     "metadata": {},
     "output_type": "execute_result"
    }
   ],
   "source": [
    "grafo_temporal.weight(shortest_path_from_A_to_D_at_2_to_7)"
   ]
  },
  {
   "cell_type": "markdown",
   "metadata": {},
   "source": [
    "Peso del camino (días):"
   ]
  },
  {
   "cell_type": "code",
   "execution_count": 22,
   "metadata": {
    "ExecuteTime": {
     "end_time": "2019-02-14T19:14:15.104794Z",
     "start_time": "2019-02-14T19:14:14.949210Z"
    }
   },
   "outputs": [
    {
     "data": {
      "text/plain": [
       "19.0"
      ]
     },
     "execution_count": 22,
     "metadata": {},
     "output_type": "execute_result"
    }
   ],
   "source": [
    "seconds_to_days(grafo_temporal.weight(shortest_path_from_A_to_D_at_2_to_7))"
   ]
  },
  {
   "cell_type": "code",
   "execution_count": null,
   "metadata": {},
   "outputs": [],
   "source": []
  },
  {
   "cell_type": "code",
   "execution_count": 23,
   "metadata": {
    "ExecuteTime": {
     "end_time": "2019-02-14T19:14:15.271969Z",
     "start_time": "2019-02-14T19:14:15.108620Z"
    }
   },
   "outputs": [
    {
     "data": {
      "text/plain": [
       "['A2', 'A7']"
      ]
     },
     "execution_count": 23,
     "metadata": {},
     "output_type": "execute_result"
    }
   ],
   "source": [
    "grafo_temporal.temporal_proximity('A', 'A', 2, 7)"
   ]
  },
  {
   "cell_type": "code",
   "execution_count": 24,
   "metadata": {
    "ExecuteTime": {
     "end_time": "2019-02-14T19:14:15.438897Z",
     "start_time": "2019-02-14T19:14:15.275465Z"
    }
   },
   "outputs": [
    {
     "data": {
      "text/plain": [
       "['A2', 'E2', 'E3', 'D3', 'D5']"
      ]
     },
     "execution_count": 24,
     "metadata": {},
     "output_type": "execute_result"
    }
   ],
   "source": [
    "grafo_temporal.temporal_proximity('A', 'D', 2, 5)"
   ]
  },
  {
   "cell_type": "code",
   "execution_count": null,
   "metadata": {},
   "outputs": [],
   "source": []
  },
  {
   "cell_type": "code",
   "execution_count": null,
   "metadata": {},
   "outputs": [],
   "source": []
  },
  {
   "cell_type": "markdown",
   "metadata": {},
   "source": [
    "### p(A,D,t<sub>i</sub>,null):\n",
    "\n",
    "The shortest path between some instance of A, e.g. At<sub>1</sub>, and any instance of D ({Dt<sub>3</sub>, Dt<sub>5</sub>, Dt<sub>6</sub>, Dt<sub>7</sub>}).\n",
    "\n",
    "This example is equivalent to p(A,D,t<sub>1</sub>, null), and intuitively means:\n",
    "    \n",
    "- “Given time t<sub>1</sub>, find the shortest path from A to D”.\n",
    "\n",
    "In this case, the shortest path is AED with total weight w(At<sub>1</sub>,At<sub>2</sub>,Et<sub>2</sub>,Et<sub>3</sub>,Dt<sub>3</sub>) = 1+0+2+0=3. "
   ]
  },
  {
   "cell_type": "code",
   "execution_count": 25,
   "metadata": {
    "ExecuteTime": {
     "end_time": "2019-02-14T19:14:15.604948Z",
     "start_time": "2019-02-14T19:14:15.441893Z"
    }
   },
   "outputs": [
    {
     "data": {
      "text/plain": [
       "['A1', 'A2', 'E2', 'E3', 'D3']"
      ]
     },
     "execution_count": 25,
     "metadata": {},
     "output_type": "execute_result"
    }
   ],
   "source": [
    "grafo_temporal.temporal_proximity('A', 'D', time_from=1, time_to=None)\n",
    "\n",
    "# Igual a: \n",
    "# grafo_temporal.temporal_proximity('A', 'D', 1, None)\n",
    "# O simplemente\n",
    "# grafo_temporal.temporal_proximity('A', 'D', 1)"
   ]
  },
  {
   "cell_type": "markdown",
   "metadata": {},
   "source": [
    "Peso del camino:"
   ]
  },
  {
   "cell_type": "code",
   "execution_count": 26,
   "metadata": {
    "ExecuteTime": {
     "end_time": "2019-02-14T19:14:15.772008Z",
     "start_time": "2019-02-14T19:14:15.608444Z"
    }
   },
   "outputs": [
    {
     "data": {
      "text/plain": [
       "3.0"
      ]
     },
     "execution_count": 26,
     "metadata": {},
     "output_type": "execute_result"
    }
   ],
   "source": [
    "seconds_to_days(grafo_temporal.weight(grafo_temporal.temporal_proximity('A',\n",
    "                                                                        'D',\n",
    "                                                                        time_from=1,\n",
    "                                                                        time_to=None)))"
   ]
  },
  {
   "cell_type": "code",
   "execution_count": 27,
   "metadata": {
    "ExecuteTime": {
     "end_time": "2019-02-14T19:14:15.934661Z",
     "start_time": "2019-02-14T19:14:15.774999Z"
    }
   },
   "outputs": [
    {
     "data": {
      "text/plain": [
       "['A2', 'E2', 'E3', 'D3']"
      ]
     },
     "execution_count": 27,
     "metadata": {},
     "output_type": "execute_result"
    }
   ],
   "source": [
    "grafo_temporal.temporal_proximity('A', 'D', time_from=2)"
   ]
  },
  {
   "cell_type": "code",
   "execution_count": 28,
   "metadata": {
    "ExecuteTime": {
     "end_time": "2019-02-14T19:14:16.108107Z",
     "start_time": "2019-02-14T19:14:15.937563Z"
    }
   },
   "outputs": [
    {
     "data": {
      "text/plain": [
       "['A7', 'D7']"
      ]
     },
     "execution_count": 28,
     "metadata": {},
     "output_type": "execute_result"
    }
   ],
   "source": [
    "grafo_temporal.temporal_proximity('A', 'D', time_from=4)"
   ]
  },
  {
   "cell_type": "code",
   "execution_count": 29,
   "metadata": {
    "ExecuteTime": {
     "end_time": "2019-02-14T19:14:16.281680Z",
     "start_time": "2019-02-14T19:14:16.115090Z"
    }
   },
   "outputs": [
    {
     "data": {
      "text/plain": [
       "[]"
      ]
     },
     "execution_count": 29,
     "metadata": {},
     "output_type": "execute_result"
    }
   ],
   "source": [
    "grafo_temporal.temporal_proximity('B', 'E', time_from=2)"
   ]
  },
  {
   "cell_type": "code",
   "execution_count": 30,
   "metadata": {
    "ExecuteTime": {
     "end_time": "2019-02-14T19:14:16.459170Z",
     "start_time": "2019-02-14T19:14:16.285632Z"
    }
   },
   "outputs": [
    {
     "data": {
      "text/plain": [
       "['B4', 'B5', 'D5']"
      ]
     },
     "execution_count": 30,
     "metadata": {},
     "output_type": "execute_result"
    }
   ],
   "source": [
    "grafo_temporal.temporal_proximity('B', 'D', time_from=2)"
   ]
  },
  {
   "cell_type": "code",
   "execution_count": null,
   "metadata": {},
   "outputs": [],
   "source": []
  },
  {
   "cell_type": "markdown",
   "metadata": {},
   "source": [
    "##### Tests:"
   ]
  },
  {
   "cell_type": "markdown",
   "metadata": {},
   "source": [
    "En los algoritmos internos, es conveniente saber si existe un camino desde un nodo a otro o saber todas las instancias de un nodo:"
   ]
  },
  {
   "cell_type": "code",
   "execution_count": 31,
   "metadata": {
    "ExecuteTime": {
     "end_time": "2019-02-14T19:14:16.620741Z",
     "start_time": "2019-02-14T19:14:16.465161Z"
    }
   },
   "outputs": [
    {
     "data": {
      "text/plain": [
       "True"
      ]
     },
     "execution_count": 31,
     "metadata": {},
     "output_type": "execute_result"
    }
   ],
   "source": [
    "nx.algorithms.has_path(grafo_temporal.get_graph(), 'A1', 'D5')"
   ]
  },
  {
   "cell_type": "code",
   "execution_count": 32,
   "metadata": {
    "ExecuteTime": {
     "end_time": "2019-02-14T19:14:16.787290Z",
     "start_time": "2019-02-14T19:14:16.624726Z"
    }
   },
   "outputs": [
    {
     "data": {
      "text/plain": [
       "['A1', 'A2', 'A7']"
      ]
     },
     "execution_count": 32,
     "metadata": {},
     "output_type": "execute_result"
    }
   ],
   "source": [
    "grafo_temporal._get_node_instances('A')"
   ]
  },
  {
   "cell_type": "code",
   "execution_count": 33,
   "metadata": {
    "ExecuteTime": {
     "end_time": "2019-02-14T19:14:16.947384Z",
     "start_time": "2019-02-14T19:14:16.791281Z"
    }
   },
   "outputs": [
    {
     "data": {
      "text/plain": [
       "['A2', 'A7']"
      ]
     },
     "execution_count": 33,
     "metadata": {},
     "output_type": "execute_result"
    }
   ],
   "source": [
    "grafo_temporal._get_node_instances('A', from_time=2)"
   ]
  },
  {
   "cell_type": "code",
   "execution_count": 34,
   "metadata": {
    "ExecuteTime": {
     "end_time": "2019-02-14T19:14:17.120692Z",
     "start_time": "2019-02-14T19:14:16.949856Z"
    }
   },
   "outputs": [
    {
     "data": {
      "text/plain": [
       "['A7']"
      ]
     },
     "execution_count": 34,
     "metadata": {},
     "output_type": "execute_result"
    }
   ],
   "source": [
    "grafo_temporal._get_node_instances('A', from_time=4)"
   ]
  },
  {
   "cell_type": "code",
   "execution_count": 35,
   "metadata": {
    "ExecuteTime": {
     "end_time": "2019-02-14T19:14:17.297934Z",
     "start_time": "2019-02-14T19:14:17.127381Z"
    }
   },
   "outputs": [
    {
     "data": {
      "text/plain": [
       "['A1', 'A2']"
      ]
     },
     "execution_count": 35,
     "metadata": {},
     "output_type": "execute_result"
    }
   ],
   "source": [
    "grafo_temporal._get_node_instances('A', to_time=2)"
   ]
  },
  {
   "cell_type": "code",
   "execution_count": 36,
   "metadata": {
    "ExecuteTime": {
     "end_time": "2019-02-14T19:14:17.463484Z",
     "start_time": "2019-02-14T19:14:17.300754Z"
    }
   },
   "outputs": [
    {
     "data": {
      "text/plain": [
       "['A1', 'A2', 'A7']"
      ]
     },
     "execution_count": 36,
     "metadata": {},
     "output_type": "execute_result"
    }
   ],
   "source": [
    "grafo_temporal._get_node_instances('A', to_time=9)"
   ]
  },
  {
   "cell_type": "code",
   "execution_count": 37,
   "metadata": {
    "ExecuteTime": {
     "end_time": "2019-02-14T19:14:17.625057Z",
     "start_time": "2019-02-14T19:14:17.466477Z"
    },
    "scrolled": true
   },
   "outputs": [
    {
     "data": {
      "text/plain": [
       "['A1']"
      ]
     },
     "execution_count": 37,
     "metadata": {},
     "output_type": "execute_result"
    }
   ],
   "source": [
    "grafo_temporal._get_node_instances('A', to_time=1)"
   ]
  },
  {
   "cell_type": "code",
   "execution_count": 38,
   "metadata": {
    "ExecuteTime": {
     "end_time": "2019-02-14T19:14:17.778639Z",
     "start_time": "2019-02-14T19:14:17.631034Z"
    },
    "scrolled": true
   },
   "outputs": [
    {
     "name": "stdout",
     "output_type": "stream",
     "text": [
      "Help on method _get_node_instances in module temporal_graph:\n",
      "\n",
      "_get_node_instances(node_base, from_time=None, to_time=None) method of temporal_graph.TemporalGraph instance\n",
      "    Devuelve las instancias en el tiempo para el nodo base recibido.\n",
      "    \n",
      "    Args:\n",
      "        node_base (str): Nodo del cual se desean obtener las instancias.\n",
      "    \n",
      "        from_time (int): Indica que se desean obtener instancias que se encuentren en tiempos superiores (o igual) a este valor.\n",
      "    \n",
      "        to_time (int): Indica que se desean obtener instancias que se encuentren en tiempos inferiores (o igual) a este valor.\n",
      "    \n",
      "    Returns:\n",
      "        list: Instancias del nodo recibido.\n",
      "            Lista vacia si no hay instancias para el nodo.\n",
      "\n",
      "None\n"
     ]
    }
   ],
   "source": [
    "print(help(grafo_temporal._get_node_instances))"
   ]
  },
  {
   "cell_type": "code",
   "execution_count": null,
   "metadata": {},
   "outputs": [],
   "source": []
  },
  {
   "cell_type": "code",
   "execution_count": null,
   "metadata": {},
   "outputs": [],
   "source": []
  },
  {
   "cell_type": "markdown",
   "metadata": {},
   "source": [
    "### p(A,D,null,t<sub>i</sub>):\n",
    "\n",
    "The shortest path between any instance of A ({At<sub>1</sub>, At<sub>2</sub>, At<sub>7</sub>}) and some instance of D, e.g. Dt<sub>5</sub>. \n",
    "    \n",
    "This example is equivalent to p(A,D,null,t<sub>5</sub>) and intuitively means:\n",
    "\n",
    "- \"Find the shortest path from A to D such that D is reached at t<sub>5</sub>\".\n",
    "\n",
    "In this case, there are two shortest paths with weight w(At<sub>1</sub> At<sub>2</sub> Et<sub>2</sub> Et<sub>3</sub> Dt<sub>3</sub> Dt<sub>5</sub>) = w(At<sub>1</sub> Bt<sub>1</sub> Bt<sub>4</sub> Bt<sub>5</sub> Dt<sub>5</sub>) = 9, which translate back to AED and ABD respectively."
   ]
  },
  {
   "cell_type": "code",
   "execution_count": 39,
   "metadata": {
    "ExecuteTime": {
     "end_time": "2019-02-14T19:14:17.965288Z",
     "start_time": "2019-02-14T19:14:17.781633Z"
    },
    "scrolled": true
   },
   "outputs": [
    {
     "data": {
      "text/plain": [
       "['A1', 'B1', 'B4', 'B5', 'D5']"
      ]
     },
     "execution_count": 39,
     "metadata": {},
     "output_type": "execute_result"
    }
   ],
   "source": [
    "shortest_path = grafo_temporal.temporal_proximity('A', 'D', time_to=5)\n",
    "shortest_path"
   ]
  },
  {
   "cell_type": "markdown",
   "metadata": {},
   "source": [
    "Peso del camino:"
   ]
  },
  {
   "cell_type": "code",
   "execution_count": 40,
   "metadata": {
    "ExecuteTime": {
     "end_time": "2019-02-14T19:14:18.132822Z",
     "start_time": "2019-02-14T19:14:17.968133Z"
    }
   },
   "outputs": [
    {
     "data": {
      "text/plain": [
       "9.0"
      ]
     },
     "execution_count": 40,
     "metadata": {},
     "output_type": "execute_result"
    }
   ],
   "source": [
    "seconds_to_days(grafo_temporal.weight(shortest_path))"
   ]
  },
  {
   "cell_type": "code",
   "execution_count": 41,
   "metadata": {
    "ExecuteTime": {
     "end_time": "2019-02-14T19:14:18.284293Z",
     "start_time": "2019-02-14T19:14:18.137680Z"
    }
   },
   "outputs": [
    {
     "data": {
      "text/plain": [
       "['A1', 'B1', 'B4', 'C4']"
      ]
     },
     "execution_count": 41,
     "metadata": {},
     "output_type": "execute_result"
    }
   ],
   "source": [
    "grafo_temporal.temporal_proximity('A', 'C', time_to=4)"
   ]
  },
  {
   "cell_type": "code",
   "execution_count": 42,
   "metadata": {
    "ExecuteTime": {
     "end_time": "2019-02-14T19:14:18.456829Z",
     "start_time": "2019-02-14T19:14:18.287279Z"
    }
   },
   "outputs": [
    {
     "data": {
      "text/plain": [
       "['A1', 'B1', 'B4', 'C4']"
      ]
     },
     "execution_count": 42,
     "metadata": {},
     "output_type": "execute_result"
    }
   ],
   "source": [
    "grafo_temporal.temporal_proximity('A', 'C', time_to=5)"
   ]
  },
  {
   "cell_type": "code",
   "execution_count": 43,
   "metadata": {
    "ExecuteTime": {
     "end_time": "2019-02-14T19:14:18.631872Z",
     "start_time": "2019-02-14T19:14:18.461812Z"
    }
   },
   "outputs": [
    {
     "name": "stdout",
     "output_type": "stream",
     "text": [
      "El nodo destino D no tiene instancias anteriores al tiempo 2\n"
     ]
    }
   ],
   "source": [
    "try:\n",
    "    grafo_temporal.temporal_proximity('A', 'D', time_to=2)\n",
    "except Exception as e:\n",
    "    print(e)"
   ]
  },
  {
   "cell_type": "markdown",
   "metadata": {},
   "source": [
    "### p(A,D,null,null): \n",
    "\n",
    "The shortest path between any instance of A ({At<sub>1</sub>, At<sub>2</sub>, At<sub>3</sub>, At<sub>7</sub>}) and any inst<sub>a</sub>nce of D ({Dt<sub>3</sub>, Dt<sub>5</sub>, Dt<sub>6</sub>, Dt<sub>7</sub>}). This intuitively means:\n",
    "- \"find the shortest possible path from A to D throughout the entire dataset\".\n",
    "\n",
    "In this case, the shortest path is w(At<sub>7</sub>,Dt<sub>7</sub>) = 0, which translates back to AD."
   ]
  },
  {
   "cell_type": "code",
   "execution_count": 44,
   "metadata": {
    "ExecuteTime": {
     "end_time": "2019-02-14T19:14:18.813384Z",
     "start_time": "2019-02-14T19:14:18.635864Z"
    }
   },
   "outputs": [
    {
     "data": {
      "text/plain": [
       "['A7', 'D7']"
      ]
     },
     "execution_count": 44,
     "metadata": {},
     "output_type": "execute_result"
    }
   ],
   "source": [
    "shortest_path = grafo_temporal.temporal_proximity('A', 'D')\n",
    "shortest_path"
   ]
  },
  {
   "cell_type": "code",
   "execution_count": 45,
   "metadata": {
    "ExecuteTime": {
     "end_time": "2019-02-14T19:14:18.983275Z",
     "start_time": "2019-02-14T19:14:18.816376Z"
    }
   },
   "outputs": [
    {
     "data": {
      "text/plain": [
       "0.0"
      ]
     },
     "execution_count": 45,
     "metadata": {},
     "output_type": "execute_result"
    }
   ],
   "source": [
    "seconds_to_days(grafo_temporal.weight(shortest_path))"
   ]
  },
  {
   "cell_type": "code",
   "execution_count": 46,
   "metadata": {
    "ExecuteTime": {
     "end_time": "2019-02-14T19:14:19.148489Z",
     "start_time": "2019-02-14T19:14:18.986920Z"
    }
   },
   "outputs": [
    {
     "data": {
      "text/plain": [
       "['B5', 'D5']"
      ]
     },
     "execution_count": 46,
     "metadata": {},
     "output_type": "execute_result"
    }
   ],
   "source": [
    "grafo_temporal.temporal_proximity('B', 'D')"
   ]
  },
  {
   "cell_type": "code",
   "execution_count": 47,
   "metadata": {
    "ExecuteTime": {
     "end_time": "2019-02-14T19:14:19.320108Z",
     "start_time": "2019-02-14T19:14:19.151481Z"
    }
   },
   "outputs": [
    {
     "data": {
      "text/plain": [
       "['B4', 'C4']"
      ]
     },
     "execution_count": 47,
     "metadata": {},
     "output_type": "execute_result"
    }
   ],
   "source": [
    "grafo_temporal.temporal_proximity('B', 'C')"
   ]
  },
  {
   "cell_type": "code",
   "execution_count": 48,
   "metadata": {
    "ExecuteTime": {
     "end_time": "2019-02-14T19:14:19.499551Z",
     "start_time": "2019-02-14T19:14:19.326014Z"
    }
   },
   "outputs": [
    {
     "data": {
      "text/plain": [
       "[]"
      ]
     },
     "execution_count": 48,
     "metadata": {},
     "output_type": "execute_result"
    }
   ],
   "source": [
    "grafo_temporal.temporal_proximity('E', 'A')"
   ]
  },
  {
   "cell_type": "code",
   "execution_count": 49,
   "metadata": {
    "ExecuteTime": {
     "end_time": "2019-02-14T19:14:19.667752Z",
     "start_time": "2019-02-14T19:14:19.502543Z"
    }
   },
   "outputs": [
    {
     "data": {
      "text/plain": [
       "['E3', 'D3', 'D5', 'D6', 'B6']"
      ]
     },
     "execution_count": 49,
     "metadata": {},
     "output_type": "execute_result"
    }
   ],
   "source": [
    "grafo_temporal.temporal_proximity('E', 'B')"
   ]
  },
  {
   "cell_type": "code",
   "execution_count": 50,
   "metadata": {
    "ExecuteTime": {
     "end_time": "2019-02-14T19:14:19.836589Z",
     "start_time": "2019-02-14T19:14:19.670744Z"
    }
   },
   "outputs": [
    {
     "data": {
      "text/plain": [
       "['E2', 'E3', 'D3', 'D5', 'D6']"
      ]
     },
     "execution_count": 50,
     "metadata": {},
     "output_type": "execute_result"
    }
   ],
   "source": [
    "grafo_temporal.temporal_proximity('E', 'D', time_from=2, time_to=6)"
   ]
  },
  {
   "cell_type": "code",
   "execution_count": null,
   "metadata": {},
   "outputs": [],
   "source": []
  },
  {
   "cell_type": "code",
   "execution_count": null,
   "metadata": {},
   "outputs": [],
   "source": []
  },
  {
   "cell_type": "code",
   "execution_count": null,
   "metadata": {},
   "outputs": [],
   "source": []
  },
  {
   "cell_type": "markdown",
   "metadata": {},
   "source": [
    "### Peso del camino (Path weight): "
   ]
  },
  {
   "cell_type": "markdown",
   "metadata": {},
   "source": [
    "En las pruebas anteriores utilizamos una funcion de nuestro módulo de grafo temporal (_Class method_) para saber el peso de un camino.\n",
    "Este método utiliza la información del enlace para obtener el peso y retornar la suma total de pesos del camino:"
   ]
  },
  {
   "cell_type": "code",
   "execution_count": 51,
   "metadata": {
    "ExecuteTime": {
     "end_time": "2019-02-14T19:14:20.016933Z",
     "start_time": "2019-02-14T19:14:19.840300Z"
    }
   },
   "outputs": [
    {
     "data": {
      "text/plain": [
       "{'weight': 432000.0}"
      ]
     },
     "execution_count": 51,
     "metadata": {},
     "output_type": "execute_result"
    }
   ],
   "source": [
    "grafo_temporal.get_graph().get_edge_data('D5', 'D6')"
   ]
  },
  {
   "cell_type": "code",
   "execution_count": 52,
   "metadata": {
    "ExecuteTime": {
     "end_time": "2019-02-14T19:14:20.183373Z",
     "start_time": "2019-02-14T19:14:20.019960Z"
    }
   },
   "outputs": [
    {
     "data": {
      "text/plain": [
       "432000.0"
      ]
     },
     "execution_count": 52,
     "metadata": {},
     "output_type": "execute_result"
    }
   ],
   "source": [
    "grafo_temporal.weight(['D5', 'D6'])"
   ]
  },
  {
   "cell_type": "code",
   "execution_count": 53,
   "metadata": {
    "ExecuteTime": {
     "end_time": "2019-02-14T19:14:20.340575Z",
     "start_time": "2019-02-14T19:14:20.186364Z"
    }
   },
   "outputs": [
    {
     "data": {
      "text/plain": [
       "['A1', 'B1', 'B4', 'B5', 'D5']"
      ]
     },
     "execution_count": 53,
     "metadata": {},
     "output_type": "execute_result"
    }
   ],
   "source": [
    "grafo_temporal.temporal_proximity('A', 'D', time_to=5)"
   ]
  },
  {
   "cell_type": "code",
   "execution_count": 54,
   "metadata": {
    "ExecuteTime": {
     "end_time": "2019-02-14T19:14:20.502564Z",
     "start_time": "2019-02-14T19:14:20.344494Z"
    }
   },
   "outputs": [
    {
     "data": {
      "text/plain": [
       "777600.0"
      ]
     },
     "execution_count": 54,
     "metadata": {},
     "output_type": "execute_result"
    }
   ],
   "source": [
    "grafo_temporal.weight(['A1', 'A2', 'E2', 'E3', 'D3', 'D5'])"
   ]
  },
  {
   "cell_type": "code",
   "execution_count": 55,
   "metadata": {
    "ExecuteTime": {
     "end_time": "2019-02-14T19:14:20.668627Z",
     "start_time": "2019-02-14T19:14:20.507067Z"
    }
   },
   "outputs": [
    {
     "data": {
      "text/plain": [
       "777600.0"
      ]
     },
     "execution_count": 55,
     "metadata": {},
     "output_type": "execute_result"
    }
   ],
   "source": [
    "grafo_temporal.weight(grafo_temporal.temporal_proximity('A', 'D', time_to=5))"
   ]
  },
  {
   "cell_type": "code",
   "execution_count": 56,
   "metadata": {
    "ExecuteTime": {
     "end_time": "2019-02-14T19:14:20.846160Z",
     "start_time": "2019-02-14T19:14:20.671936Z"
    }
   },
   "outputs": [
    {
     "data": {
      "text/plain": [
       "['A1', 'A2', 'C2']"
      ]
     },
     "execution_count": 56,
     "metadata": {},
     "output_type": "execute_result"
    }
   ],
   "source": [
    "grafo_temporal.temporal_proximity('A', 'C', time_to=2)"
   ]
  },
  {
   "cell_type": "code",
   "execution_count": 57,
   "metadata": {
    "ExecuteTime": {
     "end_time": "2019-02-14T19:14:21.037640Z",
     "start_time": "2019-02-14T19:14:20.850143Z"
    }
   },
   "outputs": [
    {
     "data": {
      "text/plain": [
       "86400.0"
      ]
     },
     "execution_count": 57,
     "metadata": {},
     "output_type": "execute_result"
    }
   ],
   "source": [
    "grafo_temporal.weight(['A1', 'A2', 'C2'])"
   ]
  },
  {
   "cell_type": "code",
   "execution_count": 58,
   "metadata": {
    "ExecuteTime": {
     "end_time": "2019-02-14T19:14:21.204569Z",
     "start_time": "2019-02-14T19:14:21.043771Z"
    }
   },
   "outputs": [
    {
     "data": {
      "text/plain": [
       "86400.0"
      ]
     },
     "execution_count": 58,
     "metadata": {},
     "output_type": "execute_result"
    }
   ],
   "source": [
    "grafo_temporal.weight(['A1', 'A2'])"
   ]
  },
  {
   "cell_type": "code",
   "execution_count": null,
   "metadata": {},
   "outputs": [],
   "source": []
  },
  {
   "cell_type": "markdown",
   "metadata": {},
   "source": [
    "## Proximidad temporal promedio:"
   ]
  },
  {
   "cell_type": "markdown",
   "metadata": {},
   "source": [
    "__P(X,Y)__ mide _\"en promedio, cuánto tiempo toma ir desde X hasta Y\"_"
   ]
  },
  {
   "cell_type": "code",
   "execution_count": 59,
   "metadata": {
    "ExecuteTime": {
     "end_time": "2019-02-14T19:14:21.368662Z",
     "start_time": "2019-02-14T19:14:21.209557Z"
    }
   },
   "outputs": [
    {
     "name": "stdout",
     "output_type": "stream",
     "text": [
      "Proximidad temporal promedio desde A a D:\n",
      "144000.0 (segundos) --> 1.6666666666666667 (días)\n",
      "\n"
     ]
    }
   ],
   "source": [
    "avg_tmp_proximity = grafo_temporal.average_temporal_proximity('A', 'D')\n",
    "print('''Proximidad temporal promedio desde A a D:\n",
    "{} (segundos) --> {} (días)\n",
    "'''.format(avg_tmp_proximity, seconds_to_days(avg_tmp_proximity)))"
   ]
  },
  {
   "cell_type": "code",
   "execution_count": 60,
   "metadata": {
    "ExecuteTime": {
     "end_time": "2019-02-14T19:14:21.547651Z",
     "start_time": "2019-02-14T19:14:21.374116Z"
    }
   },
   "outputs": [
    {
     "name": "stdout",
     "output_type": "stream",
     "text": [
      "Average temporal proximity from A to D\n",
      "\n",
      "-- Iteration start --\n",
      "Temporal proximity from A to D\n",
      "\n",
      "\tSearching from: A1\n",
      "\tFrom: A1\n",
      "\tDestination: D3?\n",
      "\t\tHave path, save: \n",
      "\t\t['A1', 'A2', 'E2', 'E3', 'D3']\n",
      "\t\tnext node instance destination...\n",
      "In t:1\n",
      "\tdistance from A to D\n",
      "\tpath: ['A1', 'A2', 'E2', 'E3', 'D3']\n",
      "\n",
      "\n",
      "Temporal proximity from A to D\n",
      "\n",
      "\tSearching from: A2\n",
      "\tFrom: A2\n",
      "\tDestination: D3?\n",
      "\t\tHave path, save: \n",
      "\t\t['A2', 'E2', 'E3', 'D3']\n",
      "\t\tnext node instance destination...\n",
      "In t:2\n",
      "\tdistance from A to D\n",
      "\tpath: ['A2', 'E2', 'E3', 'D3']\n",
      "\n",
      "\n",
      "Temporal proximity from A to D\n",
      "\n",
      "\tSearching from: A7\n",
      "\tFrom: A7\n",
      "\tDestination: D7?\n",
      "\t\tHave path, save: \n",
      "\t\t['A7', 'D7']\n",
      "\t\tnext node instance destination...\n",
      "In t:7\n",
      "\tdistance from A to D\n",
      "\tpath: ['A7', 'D7']\n",
      "\n",
      "\n",
      "-- Iteration finished --\n"
     ]
    },
    {
     "data": {
      "text/plain": [
       "144000.0"
      ]
     },
     "execution_count": 60,
     "metadata": {},
     "output_type": "execute_result"
    }
   ],
   "source": [
    "grafo_temporal.average_temporal_proximity('A', 'D', verbose=True)"
   ]
  },
  {
   "cell_type": "code",
   "execution_count": 61,
   "metadata": {
    "ExecuteTime": {
     "end_time": "2019-02-14T19:14:21.747118Z",
     "start_time": "2019-02-14T19:14:21.550645Z"
    }
   },
   "outputs": [
    {
     "data": {
      "text/plain": [
       "1.6666666666666667"
      ]
     },
     "execution_count": 61,
     "metadata": {},
     "output_type": "execute_result"
    }
   ],
   "source": [
    "seconds_to_days(144000)"
   ]
  },
  {
   "cell_type": "code",
   "execution_count": 62,
   "metadata": {
    "ExecuteTime": {
     "end_time": "2019-02-14T19:14:21.936611Z",
     "start_time": "2019-02-14T19:14:21.750111Z"
    }
   },
   "outputs": [
    {
     "data": {
      "text/plain": [
       "3.0"
      ]
     },
     "execution_count": 62,
     "metadata": {},
     "output_type": "execute_result"
    }
   ],
   "source": [
    "# A a D desde t1\n",
    "seconds = grafo_temporal.weight(['A1', 'A2', 'E2', 'E3', 'D3'])\n",
    "(seconds/3600)/24"
   ]
  },
  {
   "cell_type": "code",
   "execution_count": 63,
   "metadata": {
    "ExecuteTime": {
     "end_time": "2019-02-14T19:14:22.099396Z",
     "start_time": "2019-02-14T19:14:21.941599Z"
    },
    "scrolled": true
   },
   "outputs": [
    {
     "data": {
      "text/plain": [
       "2.0"
      ]
     },
     "execution_count": 63,
     "metadata": {},
     "output_type": "execute_result"
    }
   ],
   "source": [
    "# A a D desde t2\n",
    "seconds = grafo_temporal.weight(['A2', 'E2', 'E3', 'D3'])\n",
    "((seconds)/3600)/24"
   ]
  },
  {
   "cell_type": "code",
   "execution_count": null,
   "metadata": {},
   "outputs": [],
   "source": []
  },
  {
   "cell_type": "code",
   "execution_count": 64,
   "metadata": {
    "ExecuteTime": {
     "end_time": "2019-02-14T19:14:22.265060Z",
     "start_time": "2019-02-14T19:14:22.102591Z"
    },
    "scrolled": true
   },
   "outputs": [
    {
     "name": "stdout",
     "output_type": "stream",
     "text": [
      "Average temporal proximity from A to B\n",
      "\n",
      "-- Iteration start --\n",
      "Temporal proximity from A to B\n",
      "\n",
      "\tSearching from: A1\n",
      "\tFrom: A1\n",
      "\tDestination: B1?\n",
      "\t\tHave path, save: \n",
      "\t\t['A1', 'B1']\n",
      "\t\tnext node instance destination...\n",
      "In t:1\n",
      "\tdistance from A to B\n",
      "\tpath: ['A1', 'B1']\n",
      "\n",
      "\n",
      "Temporal proximity from A to B\n",
      "\n",
      "\tSearching from: A2\n",
      "\tFrom: A2\n",
      "\tDestination: B4?\n",
      "\tDestination: B5?\n",
      "\tDestination: B6?\n",
      "\t\tHave path, save: \n",
      "\t\t['A2', 'E2', 'E3', 'D3', 'D5', 'D6', 'B6']\n",
      "\t\tnext node instance destination...\n",
      "In t:2\n",
      "\tdistance from A to B\n",
      "\tpath: ['A2', 'E2', 'E3', 'D3', 'D5', 'D6', 'B6']\n",
      "\n",
      "\n",
      "Temporal proximity from A to B\n",
      "\n",
      "\tSearching from: A7\n",
      "\tFrom: A7\n",
      "In t:7\n",
      "\tdistance from A to B\n",
      "\tpath: []\n",
      "\n",
      "\n",
      "-- Iteration finished --\n"
     ]
    },
    {
     "data": {
      "text/plain": [
       "6.5"
      ]
     },
     "execution_count": 64,
     "metadata": {},
     "output_type": "execute_result"
    }
   ],
   "source": [
    "(grafo_temporal.average_temporal_proximity('A', 'B', verbose=True) / 3600) / 24"
   ]
  },
  {
   "cell_type": "code",
   "execution_count": 65,
   "metadata": {
    "ExecuteTime": {
     "end_time": "2019-02-14T19:14:22.429514Z",
     "start_time": "2019-02-14T19:14:22.272933Z"
    }
   },
   "outputs": [
    {
     "data": {
      "text/plain": [
       "0.5"
      ]
     },
     "execution_count": 65,
     "metadata": {},
     "output_type": "execute_result"
    }
   ],
   "source": [
    "(grafo_temporal.average_temporal_proximity('A', 'C') / 3600) / 24"
   ]
  },
  {
   "cell_type": "code",
   "execution_count": 66,
   "metadata": {
    "ExecuteTime": {
     "end_time": "2019-02-14T19:14:22.596102Z",
     "start_time": "2019-02-14T19:14:22.432505Z"
    }
   },
   "outputs": [
    {
     "data": {
      "text/plain": [
       "1.6666666666666667"
      ]
     },
     "execution_count": 66,
     "metadata": {},
     "output_type": "execute_result"
    }
   ],
   "source": [
    "(grafo_temporal.average_temporal_proximity('A', 'D') / 3600) / 24"
   ]
  },
  {
   "cell_type": "code",
   "execution_count": 67,
   "metadata": {
    "ExecuteTime": {
     "end_time": "2019-02-14T19:14:22.758002Z",
     "start_time": "2019-02-14T19:14:22.600162Z"
    }
   },
   "outputs": [
    {
     "data": {
      "text/plain": [
       "0.5"
      ]
     },
     "execution_count": 67,
     "metadata": {},
     "output_type": "execute_result"
    }
   ],
   "source": [
    "(grafo_temporal.average_temporal_proximity('A', 'E') / 3600) / 24"
   ]
  },
  {
   "cell_type": "code",
   "execution_count": 68,
   "metadata": {
    "ExecuteTime": {
     "end_time": "2019-02-14T19:14:22.926185Z",
     "start_time": "2019-02-14T19:14:22.761626Z"
    }
   },
   "outputs": [
    {
     "data": {
      "text/plain": [
       "2.5"
      ]
     },
     "execution_count": 68,
     "metadata": {},
     "output_type": "execute_result"
    }
   ],
   "source": [
    "(grafo_temporal.average_temporal_proximity('B', 'C') / 3600) / 24"
   ]
  },
  {
   "cell_type": "code",
   "execution_count": 69,
   "metadata": {
    "ExecuteTime": {
     "end_time": "2019-02-14T19:14:23.092949Z",
     "start_time": "2019-02-14T19:14:22.929177Z"
    }
   },
   "outputs": [
    {
     "data": {
      "text/plain": [
       "4.333333333333333"
      ]
     },
     "execution_count": 69,
     "metadata": {},
     "output_type": "execute_result"
    }
   ],
   "source": [
    "(grafo_temporal.average_temporal_proximity('B', 'D') / 3600) / 24"
   ]
  },
  {
   "cell_type": "markdown",
   "metadata": {},
   "source": [
    "Distancia temporal promedio nula:"
   ]
  },
  {
   "cell_type": "code",
   "execution_count": 70,
   "metadata": {
    "ExecuteTime": {
     "end_time": "2019-02-14T19:14:23.255313Z",
     "start_time": "2019-02-14T19:14:23.096730Z"
    }
   },
   "outputs": [
    {
     "name": "stdout",
     "output_type": "stream",
     "text": [
      "Average temporal proximity from B to A\n",
      "\n",
      "-- Iteration start --\n",
      "Temporal proximity from B to A\n",
      "\n",
      "\tSearching from: B1\n",
      "\tFrom: B1\n",
      "\tDestination: A1?\n",
      "\tDestination: A2?\n",
      "\tDestination: A7?\n",
      "In t:1\n",
      "\tdistance from B to A\n",
      "\tpath: []\n",
      "\n",
      "\n",
      "Temporal proximity from B to A\n",
      "\n",
      "\tSearching from: B4\n",
      "\tFrom: B4\n",
      "\tDestination: A7?\n",
      "In t:4\n",
      "\tdistance from B to A\n",
      "\tpath: []\n",
      "\n",
      "\n",
      "Temporal proximity from B to A\n",
      "\n",
      "\tSearching from: B5\n",
      "\tFrom: B5\n",
      "\tDestination: A7?\n",
      "In t:5\n",
      "\tdistance from B to A\n",
      "\tpath: []\n",
      "\n",
      "\n",
      "Temporal proximity from B to A\n",
      "\n",
      "\tSearching from: B6\n",
      "\tFrom: B6\n",
      "\tDestination: A7?\n",
      "In t:6\n",
      "\tdistance from B to A\n",
      "\tpath: []\n",
      "\n",
      "\n",
      "-- Iteration finished --\n"
     ]
    }
   ],
   "source": [
    "grafo_temporal.average_temporal_proximity('B', 'A', verbose=True)"
   ]
  },
  {
   "cell_type": "markdown",
   "metadata": {},
   "source": [
    "Distancia temporal promedio 0:"
   ]
  },
  {
   "cell_type": "code",
   "execution_count": 71,
   "metadata": {
    "ExecuteTime": {
     "end_time": "2019-02-14T19:14:23.429839Z",
     "start_time": "2019-02-14T19:14:23.259411Z"
    }
   },
   "outputs": [
    {
     "name": "stdout",
     "output_type": "stream",
     "text": [
      "Average temporal proximity from B to B\n",
      "\n",
      "-- Iteration start --\n",
      "Temporal proximity from B to B\n",
      "\n",
      "\tSearching from: B1\n",
      "\tFrom: B1\n",
      "\tDestination: B1?\n",
      "\t\tHave path, save: \n",
      "\t\t['B1']\n",
      "\t\tnext node instance destination...\n",
      "In t:1\n",
      "\tdistance from B to B\n",
      "\tpath: ['B1']\n",
      "\n",
      "\n",
      "Temporal proximity from B to B\n",
      "\n",
      "\tSearching from: B4\n",
      "\tFrom: B4\n",
      "\tDestination: B4?\n",
      "\t\tHave path, save: \n",
      "\t\t['B4']\n",
      "\t\tnext node instance destination...\n",
      "In t:4\n",
      "\tdistance from B to B\n",
      "\tpath: ['B4']\n",
      "\n",
      "\n",
      "Temporal proximity from B to B\n",
      "\n",
      "\tSearching from: B5\n",
      "\tFrom: B5\n",
      "\tDestination: B5?\n",
      "\t\tHave path, save: \n",
      "\t\t['B5']\n",
      "\t\tnext node instance destination...\n",
      "In t:5\n",
      "\tdistance from B to B\n",
      "\tpath: ['B5']\n",
      "\n",
      "\n",
      "Temporal proximity from B to B\n",
      "\n",
      "\tSearching from: B6\n",
      "\tFrom: B6\n",
      "\tDestination: B6?\n",
      "\t\tHave path, save: \n",
      "\t\t['B6']\n",
      "\t\tnext node instance destination...\n",
      "In t:6\n",
      "\tdistance from B to B\n",
      "\tpath: ['B6']\n",
      "\n",
      "\n",
      "-- Iteration finished --\n"
     ]
    },
    {
     "data": {
      "text/plain": [
       "0.0"
      ]
     },
     "execution_count": 71,
     "metadata": {},
     "output_type": "execute_result"
    }
   ],
   "source": [
    "seconds_to_days((grafo_temporal.average_temporal_proximity('B', 'B', verbose=True)))"
   ]
  },
  {
   "cell_type": "code",
   "execution_count": 72,
   "metadata": {
    "ExecuteTime": {
     "end_time": "2019-02-14T19:14:23.594398Z",
     "start_time": "2019-02-14T19:14:23.433829Z"
    }
   },
   "outputs": [
    {
     "name": "stdout",
     "output_type": "stream",
     "text": [
      "Average temporal proximity from D to B\n",
      "\n",
      "-- Iteration start --\n",
      "Temporal proximity from D to B\n",
      "\n",
      "\tSearching from: D3\n",
      "\tFrom: D3\n",
      "\tDestination: B4?\n",
      "\tDestination: B5?\n",
      "\tDestination: B6?\n",
      "\t\tHave path, save: \n",
      "\t\t['D3', 'D5', 'D6', 'B6']\n",
      "\t\tnext node instance destination...\n",
      "In t:3\n",
      "\tdistance from D to B\n",
      "\tpath: ['D3', 'D5', 'D6', 'B6']\n",
      "\n",
      "\n",
      "Temporal proximity from D to B\n",
      "\n",
      "\tSearching from: D5\n",
      "\tFrom: D5\n",
      "\tDestination: B5?\n",
      "\tDestination: B6?\n",
      "\t\tHave path, save: \n",
      "\t\t['D5', 'D6', 'B6']\n",
      "\t\tnext node instance destination...\n",
      "In t:5\n",
      "\tdistance from D to B\n",
      "\tpath: ['D5', 'D6', 'B6']\n",
      "\n",
      "\n",
      "Temporal proximity from D to B\n",
      "\n",
      "\tSearching from: D6\n",
      "\tFrom: D6\n",
      "\tDestination: B6?\n",
      "\t\tHave path, save: \n",
      "\t\t['D6', 'B6']\n",
      "\t\tnext node instance destination...\n",
      "In t:6\n",
      "\tdistance from D to B\n",
      "\tpath: ['D6', 'B6']\n",
      "\n",
      "\n",
      "Temporal proximity from D to B\n",
      "\n",
      "\tSearching from: D7\n",
      "\tFrom: D7\n",
      "In t:7\n",
      "\tdistance from D to B\n",
      "\tpath: []\n",
      "\n",
      "\n",
      "-- Iteration finished --\n"
     ]
    },
    {
     "data": {
      "text/plain": [
       "5.333333333333333"
      ]
     },
     "execution_count": 72,
     "metadata": {},
     "output_type": "execute_result"
    }
   ],
   "source": [
    "(grafo_temporal.average_temporal_proximity('D', 'B', verbose=True) / 3600) / 24"
   ]
  },
  {
   "cell_type": "code",
   "execution_count": 73,
   "metadata": {
    "ExecuteTime": {
     "end_time": "2019-02-14T19:14:23.753160Z",
     "start_time": "2019-02-14T19:14:23.597441Z"
    }
   },
   "outputs": [
    {
     "name": "stdout",
     "output_type": "stream",
     "text": [
      "Average temporal proximity from E to B\n",
      "\n",
      "-- Iteration start --\n",
      "Temporal proximity from E to B\n",
      "\n",
      "\tSearching from: E2\n",
      "\tFrom: E2\n",
      "\tDestination: B4?\n",
      "\tDestination: B5?\n",
      "\tDestination: B6?\n",
      "\t\tHave path, save: \n",
      "\t\t['E2', 'E3', 'D3', 'D5', 'D6', 'B6']\n",
      "\t\tnext node instance destination...\n",
      "In t:2\n",
      "\tdistance from E to B\n",
      "\tpath: ['E2', 'E3', 'D3', 'D5', 'D6', 'B6']\n",
      "\n",
      "\n",
      "Temporal proximity from E to B\n",
      "\n",
      "\tSearching from: E3\n",
      "\tFrom: E3\n",
      "\tDestination: B4?\n",
      "\tDestination: B5?\n",
      "\tDestination: B6?\n",
      "\t\tHave path, save: \n",
      "\t\t['E3', 'D3', 'D5', 'D6', 'B6']\n",
      "\t\tnext node instance destination...\n",
      "In t:3\n",
      "\tdistance from E to B\n",
      "\tpath: ['E3', 'D3', 'D5', 'D6', 'B6']\n",
      "\n",
      "\n",
      "-- Iteration finished --\n"
     ]
    },
    {
     "data": {
      "text/plain": [
       "12.0"
      ]
     },
     "execution_count": 73,
     "metadata": {},
     "output_type": "execute_result"
    }
   ],
   "source": [
    "(grafo_temporal.average_temporal_proximity('E', 'B', verbose=True) / 3600) / 24"
   ]
  },
  {
   "cell_type": "code",
   "execution_count": null,
   "metadata": {},
   "outputs": [],
   "source": []
  },
  {
   "cell_type": "code",
   "execution_count": null,
   "metadata": {},
   "outputs": [],
   "source": []
  },
  {
   "cell_type": "markdown",
   "metadata": {},
   "source": [
    "### Por último, construir la tabla de proximidades temporales promedio."
   ]
  },
  {
   "cell_type": "code",
   "execution_count": 74,
   "metadata": {
    "ExecuteTime": {
     "end_time": "2019-02-14T19:14:23.915800Z",
     "start_time": "2019-02-14T19:14:23.756963Z"
    }
   },
   "outputs": [
    {
     "data": {
      "text/plain": [
       "4.333333333333333"
      ]
     },
     "execution_count": 74,
     "metadata": {},
     "output_type": "execute_result"
    }
   ],
   "source": [
    "seconds_to_days(\n",
    "    grafo_temporal.average_temporal_proximity('B', 'D'))"
   ]
  },
  {
   "cell_type": "code",
   "execution_count": 75,
   "metadata": {
    "ExecuteTime": {
     "end_time": "2019-02-14T19:14:24.078296Z",
     "start_time": "2019-02-14T19:14:23.918531Z"
    }
   },
   "outputs": [
    {
     "data": {
      "text/plain": [
       "5.333333333333333"
      ]
     },
     "execution_count": 75,
     "metadata": {},
     "output_type": "execute_result"
    }
   ],
   "source": [
    "seconds_to_days(\n",
    "    grafo_temporal.average_temporal_proximity('D', 'B'))"
   ]
  },
  {
   "cell_type": "markdown",
   "metadata": {},
   "source": [
    "Internamente, utilizamos __average_temporal_proximity__ para calcular las distancias temporales hacia un nodo en particular con el método __average_temporal_proximity_to_node__.\n",
    "Con este método, vamos construyendo las columnas de la tabla de distancias temporales promedio, P<sub>in</sub> y P<sub>out</sub>."
   ]
  },
  {
   "cell_type": "markdown",
   "metadata": {},
   "source": [
    "Nodos:"
   ]
  },
  {
   "cell_type": "code",
   "execution_count": 76,
   "metadata": {
    "ExecuteTime": {
     "end_time": "2019-02-14T19:14:24.255989Z",
     "start_time": "2019-02-14T19:14:24.084098Z"
    },
    "scrolled": false
   },
   "outputs": [
    {
     "data": {
      "text/plain": [
       "['A', 'B', 'C', 'D', 'E']"
      ]
     },
     "execution_count": 76,
     "metadata": {},
     "output_type": "execute_result"
    }
   ],
   "source": [
    "nodos = list(pd.Series(data.sender.unique()).append(pd.Series(data.recipient[ data.recipient.str.len() == 1].unique())))\n",
    "nodos = sorted(list(set(nodos)))\n",
    "nodos"
   ]
  },
  {
   "cell_type": "markdown",
   "metadata": {},
   "source": [
    "Función para dar formato las distancias temporales promedios:"
   ]
  },
  {
   "cell_type": "code",
   "execution_count": 77,
   "metadata": {
    "ExecuteTime": {
     "end_time": "2019-02-14T19:14:24.411278Z",
     "start_time": "2019-02-14T19:14:24.259621Z"
    }
   },
   "outputs": [],
   "source": [
    "def formatear(valor):\n",
    "    '''Formatea un flotante, si es None, retorna - (un guión)'''\n",
    "    if valor is None:\n",
    "        return '-'\n",
    "    return '{:.2f}'.format(valor)"
   ]
  },
  {
   "cell_type": "markdown",
   "metadata": {},
   "source": [
    "Creamos una diccionario python que será la entrada para el dataframe de P, P<sub>in</sub> y P<sub>out</sub>:\n",
    "\n",
    "\n",
    "Cada clave del diccionario corresponde a una columna de la tabla:"
   ]
  },
  {
   "cell_type": "code",
   "execution_count": 78,
   "metadata": {
    "ExecuteTime": {
     "end_time": "2019-02-14T19:14:24.625218Z",
     "start_time": "2019-02-14T19:14:24.415210Z"
    }
   },
   "outputs": [
    {
     "data": {
      "text/plain": [
       "{'A': ['0.00', '-', '-', '-', '-', '-'],\n",
       " 'B': ['6.50', '0.00', '-', '5.33', '12.00', '7.94'],\n",
       " 'C': ['0.50', '2.50', '0.00', '-', '-', '1.50'],\n",
       " 'D': ['1.67', '4.33', '-', '0.00', '1.00', '2.33'],\n",
       " 'E': ['0.50', '-', '-', '-', '0.00', '0.50'],\n",
       " 'Pout': ['2.29', '3.42', '-', '5.33', '6.50', '-']}"
      ]
     },
     "execution_count": 78,
     "metadata": {},
     "output_type": "execute_result"
    }
   ],
   "source": [
    "table = {}\n",
    "P_outs = []\n",
    "for nodo in nodos:\n",
    "    # Para cada nodo:\n",
    "    # Primero calcular las proximidades temporales promedios contra los demas nodos:\n",
    "    table[nodo] = [formatear(seconds_to_days(proximity))\n",
    "                   for proximity\n",
    "                   in grafo_temporal.average_temporal_proximity_to_node(nodo).values()]\n",
    "    \n",
    "    # Luego agregar a la lista el promedio de alcance hacia el nodo\n",
    "    # por parte de los demas nodos (Pin):\n",
    "    table[nodo].append(\n",
    "        formatear(\n",
    "            seconds_to_days(\n",
    "                grafo_temporal.average_temporal_reachability(nodo))))\n",
    "    \n",
    "    P_outs.append(\n",
    "        formatear(\n",
    "            seconds_to_days(\n",
    "                grafo_temporal.average_temporal_reach(nodo))))\n",
    "\n",
    "P_outs.append('-')\n",
    "table['Pout'] = P_outs\n",
    "table"
   ]
  },
  {
   "cell_type": "code",
   "execution_count": 79,
   "metadata": {
    "ExecuteTime": {
     "end_time": "2019-02-14T19:14:24.788206Z",
     "start_time": "2019-02-14T19:14:24.627634Z"
    }
   },
   "outputs": [
    {
     "data": {
      "text/plain": [
       "['A', 'B', 'C', 'D', 'E', 'Pin']"
      ]
     },
     "execution_count": 79,
     "metadata": {},
     "output_type": "execute_result"
    }
   ],
   "source": [
    "index = nodos.copy()\n",
    "index.append('Pin')\n",
    "index"
   ]
  },
  {
   "cell_type": "code",
   "execution_count": 80,
   "metadata": {
    "ExecuteTime": {
     "end_time": "2019-02-14T19:14:24.966727Z",
     "start_time": "2019-02-14T19:14:24.791197Z"
    }
   },
   "outputs": [
    {
     "data": {
      "text/html": [
       "<div>\n",
       "<style scoped>\n",
       "    .dataframe tbody tr th:only-of-type {\n",
       "        vertical-align: middle;\n",
       "    }\n",
       "\n",
       "    .dataframe tbody tr th {\n",
       "        vertical-align: top;\n",
       "    }\n",
       "\n",
       "    .dataframe thead th {\n",
       "        text-align: right;\n",
       "    }\n",
       "</style>\n",
       "<table border=\"1\" class=\"dataframe\">\n",
       "  <thead>\n",
       "    <tr style=\"text-align: right;\">\n",
       "      <th></th>\n",
       "      <th>A</th>\n",
       "      <th>B</th>\n",
       "      <th>C</th>\n",
       "      <th>D</th>\n",
       "      <th>E</th>\n",
       "      <th>Pout</th>\n",
       "    </tr>\n",
       "  </thead>\n",
       "  <tbody>\n",
       "    <tr>\n",
       "      <th>A</th>\n",
       "      <td>0.00</td>\n",
       "      <td>6.50</td>\n",
       "      <td>0.50</td>\n",
       "      <td>1.67</td>\n",
       "      <td>0.50</td>\n",
       "      <td>2.29</td>\n",
       "    </tr>\n",
       "    <tr>\n",
       "      <th>B</th>\n",
       "      <td>-</td>\n",
       "      <td>0.00</td>\n",
       "      <td>2.50</td>\n",
       "      <td>4.33</td>\n",
       "      <td>-</td>\n",
       "      <td>3.42</td>\n",
       "    </tr>\n",
       "    <tr>\n",
       "      <th>C</th>\n",
       "      <td>-</td>\n",
       "      <td>-</td>\n",
       "      <td>0.00</td>\n",
       "      <td>-</td>\n",
       "      <td>-</td>\n",
       "      <td>-</td>\n",
       "    </tr>\n",
       "    <tr>\n",
       "      <th>D</th>\n",
       "      <td>-</td>\n",
       "      <td>5.33</td>\n",
       "      <td>-</td>\n",
       "      <td>0.00</td>\n",
       "      <td>-</td>\n",
       "      <td>5.33</td>\n",
       "    </tr>\n",
       "    <tr>\n",
       "      <th>E</th>\n",
       "      <td>-</td>\n",
       "      <td>12.00</td>\n",
       "      <td>-</td>\n",
       "      <td>1.00</td>\n",
       "      <td>0.00</td>\n",
       "      <td>6.50</td>\n",
       "    </tr>\n",
       "    <tr>\n",
       "      <th>Pin</th>\n",
       "      <td>-</td>\n",
       "      <td>7.94</td>\n",
       "      <td>1.50</td>\n",
       "      <td>2.33</td>\n",
       "      <td>0.50</td>\n",
       "      <td>-</td>\n",
       "    </tr>\n",
       "  </tbody>\n",
       "</table>\n",
       "</div>"
      ],
      "text/plain": [
       "        A      B     C     D     E  Pout\n",
       "A    0.00   6.50  0.50  1.67  0.50  2.29\n",
       "B       -   0.00  2.50  4.33     -  3.42\n",
       "C       -      -  0.00     -     -     -\n",
       "D       -   5.33     -  0.00     -  5.33\n",
       "E       -  12.00     -  1.00  0.00  6.50\n",
       "Pin     -   7.94  1.50  2.33  0.50     -"
      ]
     },
     "execution_count": 80,
     "metadata": {},
     "output_type": "execute_result"
    }
   ],
   "source": [
    "average_temporal_proximities = pd.DataFrame(table, index=index)\n",
    "average_temporal_proximities"
   ]
  },
  {
   "cell_type": "markdown",
   "metadata": {},
   "source": [
    "### Métodos utilizados:\n",
    "\n",
    "#### Proximidades temporales promedios contra los demás nodos:"
   ]
  },
  {
   "cell_type": "markdown",
   "metadata": {},
   "source": [
    "#### Desde un nodo:\n",
    "\n",
    "Solicitar la primera fila horizontal de la tabla anterior:"
   ]
  },
  {
   "cell_type": "code",
   "execution_count": 81,
   "metadata": {
    "ExecuteTime": {
     "end_time": "2019-02-14T19:14:25.139851Z",
     "start_time": "2019-02-14T19:14:24.970743Z"
    }
   },
   "outputs": [
    {
     "data": {
      "text/plain": [
       "{'A': 0.0, 'B': 561600.0, 'C': 43200.0, 'D': 144000.0, 'E': 43200.0}"
      ]
     },
     "execution_count": 81,
     "metadata": {},
     "output_type": "execute_result"
    }
   ],
   "source": [
    "avg_tmp_proxs_from_a = grafo_temporal.average_temporal_proximity_from_node('A')\n",
    "avg_tmp_proxs_from_a"
   ]
  },
  {
   "cell_type": "markdown",
   "metadata": {},
   "source": [
    "pasar a dias:"
   ]
  },
  {
   "cell_type": "code",
   "execution_count": 82,
   "metadata": {
    "ExecuteTime": {
     "end_time": "2019-02-14T19:14:25.317788Z",
     "start_time": "2019-02-14T19:14:25.143256Z"
    }
   },
   "outputs": [
    {
     "data": {
      "text/plain": [
       "[0.0, 6.5, 0.5, 1.6666666666666667, 0.5]"
      ]
     },
     "execution_count": 82,
     "metadata": {},
     "output_type": "execute_result"
    }
   ],
   "source": [
    "[seconds_to_days(avg_tmp_proxs_from_a.get(e)) for e in avg_tmp_proxs_from_a]"
   ]
  },
  {
   "cell_type": "markdown",
   "metadata": {},
   "source": [
    "Alcance del nodo hacia el resto de nodos del grafo (promedio de los valores no nulos del vector de arriba):"
   ]
  },
  {
   "cell_type": "code",
   "execution_count": 83,
   "metadata": {
    "ExecuteTime": {
     "end_time": "2019-02-14T19:14:25.484512Z",
     "start_time": "2019-02-14T19:14:25.321975Z"
    }
   },
   "outputs": [
    {
     "data": {
      "text/plain": [
       "198000.0"
      ]
     },
     "execution_count": 83,
     "metadata": {},
     "output_type": "execute_result"
    }
   ],
   "source": [
    "grafo_temporal.average_temporal_reach('A')"
   ]
  },
  {
   "cell_type": "markdown",
   "metadata": {},
   "source": [
    "...expresado en días (**corresponde a Pout para el nodo A**):"
   ]
  },
  {
   "cell_type": "code",
   "execution_count": 84,
   "metadata": {
    "ExecuteTime": {
     "end_time": "2019-02-14T19:14:25.647569Z",
     "start_time": "2019-02-14T19:14:25.487335Z"
    }
   },
   "outputs": [
    {
     "data": {
      "text/plain": [
       "2.2916666666666665"
      ]
     },
     "execution_count": 84,
     "metadata": {},
     "output_type": "execute_result"
    }
   ],
   "source": [
    "seconds_to_days(grafo_temporal.average_temporal_reach('A'))"
   ]
  },
  {
   "cell_type": "markdown",
   "metadata": {},
   "source": [
    "mismo test para el nodo E:"
   ]
  },
  {
   "cell_type": "code",
   "execution_count": 85,
   "metadata": {
    "ExecuteTime": {
     "end_time": "2019-02-14T19:14:25.828424Z",
     "start_time": "2019-02-14T19:14:25.652893Z"
    }
   },
   "outputs": [
    {
     "name": "stdout",
     "output_type": "stream",
     "text": [
      "{'A': None, 'B': 1036800.0, 'C': None, 'D': 86400.0, 'E': 0.0} --> P out: 6.5\n"
     ]
    }
   ],
   "source": [
    "print(\n",
    "    grafo_temporal.average_temporal_proximity_from_node('E'),\n",
    "    '--> P out:',\n",
    "    seconds_to_days(grafo_temporal.average_temporal_reach('E')))"
   ]
  },
  {
   "cell_type": "code",
   "execution_count": null,
   "metadata": {},
   "outputs": [],
   "source": []
  },
  {
   "cell_type": "markdown",
   "metadata": {},
   "source": [
    "#### Alcance hasta un nodo (columnas de la tabla):"
   ]
  },
  {
   "cell_type": "code",
   "execution_count": 86,
   "metadata": {
    "ExecuteTime": {
     "end_time": "2019-02-14T19:14:26.006133Z",
     "start_time": "2019-02-14T19:14:25.831919Z"
    }
   },
   "outputs": [
    {
     "data": {
      "text/plain": [
       "{'A': 0.0, 'B': None, 'C': None, 'D': None, 'E': None}"
      ]
     },
     "execution_count": 86,
     "metadata": {},
     "output_type": "execute_result"
    }
   ],
   "source": [
    "grafo_temporal.average_temporal_proximity_to_node('A')"
   ]
  },
  {
   "cell_type": "code",
   "execution_count": 87,
   "metadata": {
    "ExecuteTime": {
     "end_time": "2019-02-14T19:14:26.164553Z",
     "start_time": "2019-02-14T19:14:26.009208Z"
    }
   },
   "outputs": [
    {
     "data": {
      "text/plain": [
       "{'A': 144000.0, 'B': 374400.0, 'C': None, 'D': 0.0, 'E': 86400.0}"
      ]
     },
     "execution_count": 87,
     "metadata": {},
     "output_type": "execute_result"
    }
   ],
   "source": [
    "grafo_temporal.average_temporal_proximity_to_node('D')"
   ]
  },
  {
   "cell_type": "markdown",
   "metadata": {},
   "source": [
    "Columna para el nodo 'D:' "
   ]
  },
  {
   "cell_type": "code",
   "execution_count": 88,
   "metadata": {
    "ExecuteTime": {
     "end_time": "2019-02-14T19:14:26.360000Z",
     "start_time": "2019-02-14T19:14:26.169509Z"
    }
   },
   "outputs": [
    {
     "name": "stdout",
     "output_type": "stream",
     "text": [
      "[1.6666666666666667, 4.333333333333333, None, 0.0, 1.0]\n"
     ]
    }
   ],
   "source": [
    "aux = grafo_temporal.average_temporal_proximity_to_node('D')\n",
    "print(\n",
    "    [seconds_to_days(proximity) for proximity in aux.values()])"
   ]
  },
  {
   "cell_type": "markdown",
   "metadata": {},
   "source": [
    "\"Alcanzabilidad\":"
   ]
  },
  {
   "cell_type": "code",
   "execution_count": 89,
   "metadata": {
    "ExecuteTime": {
     "end_time": "2019-02-14T19:14:26.564454Z",
     "start_time": "2019-02-14T19:14:26.362992Z"
    }
   },
   "outputs": [
    {
     "name": "stdout",
     "output_type": "stream",
     "text": [
      "201600.0 --> 2.3333333333333335\n"
     ]
    }
   ],
   "source": [
    "alcanzabilidad = grafo_temporal.average_temporal_reachability('D')\n",
    "print(alcanzabilidad, '-->', seconds_to_days(alcanzabilidad))"
   ]
  },
  {
   "cell_type": "code",
   "execution_count": 90,
   "metadata": {
    "ExecuteTime": {
     "end_time": "2019-02-14T19:14:26.777886Z",
     "start_time": "2019-02-14T19:14:26.572431Z"
    }
   },
   "outputs": [
    {
     "name": "stdout",
     "output_type": "stream",
     "text": [
      "[1.6666666666666667, 4.333333333333333, None, 0.0, 1.0] --> P in: 2.3333333333333335\n"
     ]
    }
   ],
   "source": [
    "aux = grafo_temporal.average_temporal_proximity_to_node('D')\n",
    "print(\n",
    "    [seconds_to_days(proximity) for proximity in aux.values()],\n",
    "    '--> P in:',\n",
    "    seconds_to_days(grafo_temporal.average_temporal_reachability('D'))\n",
    ")\n"
   ]
  },
  {
   "cell_type": "code",
   "execution_count": null,
   "metadata": {},
   "outputs": [],
   "source": []
  },
  {
   "cell_type": "code",
   "execution_count": 91,
   "metadata": {
    "ExecuteTime": {
     "end_time": "2019-02-14T19:14:27.043177Z",
     "start_time": "2019-02-14T19:14:26.784863Z"
    }
   },
   "outputs": [
    {
     "name": "stdout",
     "output_type": "stream",
     "text": [
      "Help on method average_temporal_reach in module temporal_graph:\n",
      "\n",
      "average_temporal_reach(node) method of temporal_graph.TemporalGraph instance\n",
      "    On average, how quickly does X reach the rest of the network.\n",
      "    \n",
      "    Lease: ```P out```\n",
      "    \n",
      "    Args:\n",
      "        node (str): Nodo. Por ejemplo: 'A'.\n",
      "    \n",
      "    Returns:\n",
      "        float, o None si desde el nodo no se alcanza ningun otro nodo.\n",
      "\n",
      "None\n"
     ]
    }
   ],
   "source": [
    "print(help(grafo_temporal.average_temporal_reach))"
   ]
  },
  {
   "cell_type": "code",
   "execution_count": 92,
   "metadata": {
    "ExecuteTime": {
     "end_time": "2019-02-14T19:14:27.245633Z",
     "start_time": "2019-02-14T19:14:27.046165Z"
    }
   },
   "outputs": [
    {
     "name": "stdout",
     "output_type": "stream",
     "text": [
      "Help on method average_temporal_reachability in module temporal_graph:\n",
      "\n",
      "average_temporal_reachability(node) method of temporal_graph.TemporalGraph instance\n",
      "    On average, how quickly is X reached by the rest of the network.\n",
      "    \n",
      "    Lease: ```P in```\n",
      "    \n",
      "    Args:\n",
      "        node (str): Nodo. Por ejemplo: 'A'.\n",
      "    \n",
      "    Returns:\n",
      "        float, o None si el nodo no es alcanzado por ningun otro nodo.\n",
      "\n",
      "None\n"
     ]
    }
   ],
   "source": [
    "print(help(grafo_temporal.average_temporal_reachability))"
   ]
  },
  {
   "cell_type": "code",
   "execution_count": null,
   "metadata": {},
   "outputs": [],
   "source": []
  },
  {
   "cell_type": "code",
   "execution_count": null,
   "metadata": {},
   "outputs": [],
   "source": []
  },
  {
   "cell_type": "code",
   "execution_count": null,
   "metadata": {},
   "outputs": [],
   "source": []
  },
  {
   "cell_type": "code",
   "execution_count": null,
   "metadata": {},
   "outputs": [],
   "source": []
  },
  {
   "cell_type": "code",
   "execution_count": 93,
   "metadata": {
    "ExecuteTime": {
     "end_time": "2019-02-14T19:14:27.498954Z",
     "start_time": "2019-02-14T19:14:27.252615Z"
    }
   },
   "outputs": [
    {
     "data": {
      "text/html": [
       "<div>\n",
       "<style scoped>\n",
       "    .dataframe tbody tr th:only-of-type {\n",
       "        vertical-align: middle;\n",
       "    }\n",
       "\n",
       "    .dataframe tbody tr th {\n",
       "        vertical-align: top;\n",
       "    }\n",
       "\n",
       "    .dataframe thead th {\n",
       "        text-align: right;\n",
       "    }\n",
       "</style>\n",
       "<table border=\"1\" class=\"dataframe\">\n",
       "  <thead>\n",
       "    <tr style=\"text-align: right;\">\n",
       "      <th></th>\n",
       "      <th>A</th>\n",
       "      <th>B</th>\n",
       "      <th>C</th>\n",
       "      <th>D</th>\n",
       "      <th>E</th>\n",
       "      <th>Pout</th>\n",
       "    </tr>\n",
       "  </thead>\n",
       "  <tbody>\n",
       "    <tr>\n",
       "      <th>A</th>\n",
       "      <td>0.00</td>\n",
       "      <td>6.50</td>\n",
       "      <td>0.50</td>\n",
       "      <td>1.67</td>\n",
       "      <td>0.50</td>\n",
       "      <td>2.29</td>\n",
       "    </tr>\n",
       "    <tr>\n",
       "      <th>B</th>\n",
       "      <td>-</td>\n",
       "      <td>0.00</td>\n",
       "      <td>2.50</td>\n",
       "      <td>4.33</td>\n",
       "      <td>-</td>\n",
       "      <td>3.42</td>\n",
       "    </tr>\n",
       "    <tr>\n",
       "      <th>C</th>\n",
       "      <td>-</td>\n",
       "      <td>-</td>\n",
       "      <td>0.00</td>\n",
       "      <td>-</td>\n",
       "      <td>-</td>\n",
       "      <td>-</td>\n",
       "    </tr>\n",
       "    <tr>\n",
       "      <th>D</th>\n",
       "      <td>-</td>\n",
       "      <td>5.33</td>\n",
       "      <td>-</td>\n",
       "      <td>0.00</td>\n",
       "      <td>-</td>\n",
       "      <td>5.33</td>\n",
       "    </tr>\n",
       "    <tr>\n",
       "      <th>E</th>\n",
       "      <td>-</td>\n",
       "      <td>12.00</td>\n",
       "      <td>-</td>\n",
       "      <td>1.00</td>\n",
       "      <td>0.00</td>\n",
       "      <td>6.50</td>\n",
       "    </tr>\n",
       "    <tr>\n",
       "      <th>Pin</th>\n",
       "      <td>-</td>\n",
       "      <td>7.94</td>\n",
       "      <td>1.50</td>\n",
       "      <td>2.33</td>\n",
       "      <td>0.50</td>\n",
       "      <td>-</td>\n",
       "    </tr>\n",
       "  </tbody>\n",
       "</table>\n",
       "</div>"
      ],
      "text/plain": [
       "        A      B     C     D     E  Pout\n",
       "A    0.00   6.50  0.50  1.67  0.50  2.29\n",
       "B       -   0.00  2.50  4.33     -  3.42\n",
       "C       -      -  0.00     -     -     -\n",
       "D       -   5.33     -  0.00     -  5.33\n",
       "E       -  12.00     -  1.00  0.00  6.50\n",
       "Pin     -   7.94  1.50  2.33  0.50     -"
      ]
     },
     "execution_count": 93,
     "metadata": {},
     "output_type": "execute_result"
    }
   ],
   "source": [
    "nodos = grafo_temporal._get_nodes()\n",
    "\n",
    "table = {}\n",
    "P_outs = []\n",
    "for nodo in nodos:\n",
    "    # Para cada nodo:\n",
    "    # Primero calcular las proximidades temporales promedios contra los demas nodos:\n",
    "    table[nodo] = [formatear(seconds_to_days(proximity))\n",
    "                   for proximity\n",
    "                   in grafo_temporal.average_temporal_proximity_to_node(nodo).values()]\n",
    "    \n",
    "    # Luego agregar a la lista el promedio de alcance hacia el nodo\n",
    "    # por parte de los demas nodos (Pin):\n",
    "    table[nodo].append(\n",
    "        formatear(\n",
    "            seconds_to_days(\n",
    "                grafo_temporal.average_temporal_reachability(nodo))))\n",
    "    \n",
    "    P_outs.append(\n",
    "        formatear(\n",
    "            seconds_to_days(\n",
    "                grafo_temporal.average_temporal_reach(nodo))))\n",
    "\n",
    "P_outs.append('-')\n",
    "table['Pout'] = P_outs\n",
    "\n",
    "nodos.append('Pin')\n",
    "average_temporal_proximities = pd.DataFrame(table, index=index)\n",
    "average_temporal_proximities"
   ]
  },
  {
   "cell_type": "markdown",
   "metadata": {},
   "source": [
    "Lo anterior se implementa en el método __temporal_proximity_table__"
   ]
  },
  {
   "cell_type": "code",
   "execution_count": 96,
   "metadata": {
    "ExecuteTime": {
     "end_time": "2019-02-14T19:17:55.377494Z",
     "start_time": "2019-02-14T19:17:55.193244Z"
    }
   },
   "outputs": [
    {
     "data": {
      "text/html": [
       "<div>\n",
       "<style scoped>\n",
       "    .dataframe tbody tr th:only-of-type {\n",
       "        vertical-align: middle;\n",
       "    }\n",
       "\n",
       "    .dataframe tbody tr th {\n",
       "        vertical-align: top;\n",
       "    }\n",
       "\n",
       "    .dataframe thead th {\n",
       "        text-align: right;\n",
       "    }\n",
       "</style>\n",
       "<table border=\"1\" class=\"dataframe\">\n",
       "  <thead>\n",
       "    <tr style=\"text-align: right;\">\n",
       "      <th></th>\n",
       "      <th>A</th>\n",
       "      <th>B</th>\n",
       "      <th>C</th>\n",
       "      <th>D</th>\n",
       "      <th>E</th>\n",
       "      <th>Pout</th>\n",
       "    </tr>\n",
       "  </thead>\n",
       "  <tbody>\n",
       "    <tr>\n",
       "      <th>A</th>\n",
       "      <td>0.00</td>\n",
       "      <td>6.50</td>\n",
       "      <td>0.50</td>\n",
       "      <td>1.67</td>\n",
       "      <td>0.50</td>\n",
       "      <td>2.29</td>\n",
       "    </tr>\n",
       "    <tr>\n",
       "      <th>B</th>\n",
       "      <td>-</td>\n",
       "      <td>0.00</td>\n",
       "      <td>2.50</td>\n",
       "      <td>4.33</td>\n",
       "      <td>-</td>\n",
       "      <td>3.42</td>\n",
       "    </tr>\n",
       "    <tr>\n",
       "      <th>C</th>\n",
       "      <td>-</td>\n",
       "      <td>-</td>\n",
       "      <td>0.00</td>\n",
       "      <td>-</td>\n",
       "      <td>-</td>\n",
       "      <td>-</td>\n",
       "    </tr>\n",
       "    <tr>\n",
       "      <th>D</th>\n",
       "      <td>-</td>\n",
       "      <td>5.33</td>\n",
       "      <td>-</td>\n",
       "      <td>0.00</td>\n",
       "      <td>-</td>\n",
       "      <td>5.33</td>\n",
       "    </tr>\n",
       "    <tr>\n",
       "      <th>E</th>\n",
       "      <td>-</td>\n",
       "      <td>12.00</td>\n",
       "      <td>-</td>\n",
       "      <td>1.00</td>\n",
       "      <td>0.00</td>\n",
       "      <td>6.50</td>\n",
       "    </tr>\n",
       "    <tr>\n",
       "      <th>Pin</th>\n",
       "      <td>-</td>\n",
       "      <td>7.94</td>\n",
       "      <td>1.50</td>\n",
       "      <td>2.33</td>\n",
       "      <td>0.50</td>\n",
       "      <td>-</td>\n",
       "    </tr>\n",
       "  </tbody>\n",
       "</table>\n",
       "</div>"
      ],
      "text/plain": [
       "        A      B     C     D     E  Pout\n",
       "A    0.00   6.50  0.50  1.67  0.50  2.29\n",
       "B       -   0.00  2.50  4.33     -  3.42\n",
       "C       -      -  0.00     -     -     -\n",
       "D       -   5.33     -  0.00     -  5.33\n",
       "E       -  12.00     -  1.00  0.00  6.50\n",
       "Pin     -   7.94  1.50  2.33  0.50     -"
      ]
     },
     "execution_count": 96,
     "metadata": {},
     "output_type": "execute_result"
    }
   ],
   "source": [
    "grafo_temporal.temporal_proximity_table()"
   ]
  },
  {
   "cell_type": "code",
   "execution_count": null,
   "metadata": {},
   "outputs": [],
   "source": []
  }
 ],
 "metadata": {
  "kernelspec": {
   "display_name": "Python 3",
   "language": "python",
   "name": "python3"
  },
  "language_info": {
   "codemirror_mode": {
    "name": "ipython",
    "version": 3
   },
   "file_extension": ".py",
   "mimetype": "text/x-python",
   "name": "python",
   "nbconvert_exporter": "python",
   "pygments_lexer": "ipython3",
   "version": "3.6.5"
  }
 },
 "nbformat": 4,
 "nbformat_minor": 2
}
