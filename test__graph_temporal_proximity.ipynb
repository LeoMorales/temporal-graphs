{
 "cells": [
  {
   "cell_type": "markdown",
   "metadata": {},
   "source": [
    "https://www.sciencedirect.com/science/article/pii/S0378437108009485"
   ]
  },
  {
   "cell_type": "code",
   "execution_count": 1,
   "metadata": {},
   "outputs": [],
   "source": [
    "%load_ext autoreload\n",
    "%autoreload 2"
   ]
  },
  {
   "cell_type": "markdown",
   "metadata": {},
   "source": [
    "# Grafos temporales (Temporal graphs)"
   ]
  },
  {
   "cell_type": "markdown",
   "metadata": {},
   "source": [
    "## Proximidad temporal (Temporal proximity)"
   ]
  },
  {
   "cell_type": "markdown",
   "metadata": {},
   "source": [
    "### Setup"
   ]
  },
  {
   "cell_type": "markdown",
   "metadata": {},
   "source": [
    "Importar las librerías de trabajo:"
   ]
  },
  {
   "cell_type": "code",
   "execution_count": 2,
   "metadata": {},
   "outputs": [],
   "source": [
    "import networkx as nx\n",
    "import datetime\n",
    "import pandas as pd\n",
    "from temporal_graph import TemporalGraph"
   ]
  },
  {
   "cell_type": "markdown",
   "metadata": {},
   "source": [
    "Generamos la data (data ejemplo del paper).\n",
    "\n",
    "La diferencia de tiempo, la expresamos en días:"
   ]
  },
  {
   "cell_type": "code",
   "execution_count": 3,
   "metadata": {},
   "outputs": [],
   "source": [
    "tiempos = [(2018, 12, 31),\n",
    "           (2019, 1, 1),\n",
    "           (2019, 1, 3),\n",
    "           (2019, 1, 5),\n",
    "           (2019, 1, 9),\n",
    "           (2019, 1, 14),\n",
    "           (2019, 1, 20)]"
   ]
  },
  {
   "cell_type": "code",
   "execution_count": 4,
   "metadata": {},
   "outputs": [
    {
     "data": {
      "text/html": [
       "<div>\n",
       "<style scoped>\n",
       "    .dataframe tbody tr th:only-of-type {\n",
       "        vertical-align: middle;\n",
       "    }\n",
       "\n",
       "    .dataframe tbody tr th {\n",
       "        vertical-align: top;\n",
       "    }\n",
       "\n",
       "    .dataframe thead th {\n",
       "        text-align: right;\n",
       "    }\n",
       "</style>\n",
       "<table border=\"1\" class=\"dataframe\">\n",
       "  <thead>\n",
       "    <tr style=\"text-align: right;\">\n",
       "      <th></th>\n",
       "      <th>sender</th>\n",
       "      <th>recipient</th>\n",
       "      <th>time</th>\n",
       "    </tr>\n",
       "  </thead>\n",
       "  <tbody>\n",
       "    <tr>\n",
       "      <th>0</th>\n",
       "      <td>A</td>\n",
       "      <td>B</td>\n",
       "      <td>2018-12-31</td>\n",
       "    </tr>\n",
       "    <tr>\n",
       "      <th>1</th>\n",
       "      <td>A</td>\n",
       "      <td>C, E</td>\n",
       "      <td>2019-01-01</td>\n",
       "    </tr>\n",
       "    <tr>\n",
       "      <th>2</th>\n",
       "      <td>E</td>\n",
       "      <td>D</td>\n",
       "      <td>2019-01-03</td>\n",
       "    </tr>\n",
       "    <tr>\n",
       "      <th>3</th>\n",
       "      <td>B</td>\n",
       "      <td>C</td>\n",
       "      <td>2019-01-05</td>\n",
       "    </tr>\n",
       "    <tr>\n",
       "      <th>4</th>\n",
       "      <td>B</td>\n",
       "      <td>D</td>\n",
       "      <td>2019-01-09</td>\n",
       "    </tr>\n",
       "    <tr>\n",
       "      <th>5</th>\n",
       "      <td>D</td>\n",
       "      <td>B</td>\n",
       "      <td>2019-01-14</td>\n",
       "    </tr>\n",
       "    <tr>\n",
       "      <th>6</th>\n",
       "      <td>A</td>\n",
       "      <td>D</td>\n",
       "      <td>2019-01-20</td>\n",
       "    </tr>\n",
       "  </tbody>\n",
       "</table>\n",
       "</div>"
      ],
      "text/plain": [
       "  sender recipient       time\n",
       "0      A         B 2018-12-31\n",
       "1      A      C, E 2019-01-01\n",
       "2      E         D 2019-01-03\n",
       "3      B         C 2019-01-05\n",
       "4      B         D 2019-01-09\n",
       "5      D         B 2019-01-14\n",
       "6      A         D 2019-01-20"
      ]
     },
     "execution_count": 4,
     "metadata": {},
     "output_type": "execute_result"
    }
   ],
   "source": [
    "data = pd.DataFrame({\n",
    "    'sender': ['A', 'A', 'E', 'B', 'B', 'D', 'A'],\n",
    "    'recipient': ['B', 'C, E', 'D', 'C', 'D', 'B', 'D'],\n",
    "    'time': [ datetime.datetime(A, mes, dia) for (A, mes, dia) in tiempos]\n",
    "})\n",
    "data"
   ]
  },
  {
   "cell_type": "markdown",
   "metadata": {},
   "source": [
    "Con esta data, creamos el grafo temporal: "
   ]
  },
  {
   "cell_type": "markdown",
   "metadata": {},
   "source": [
    "<div class=\"alert alert-info\">\n",
    "<h4>Creación del grafo temporal</h4>\n",
    "<p>Necesitamos enviarle al constructor ``todos`` los tiempos que entran en juego en la vida del grafo.</p>\n",
    "<p>Con esto, el grafo temporal crea las columnas donde se ubicarán las instancia de los nodos.</p>\n",
    "</div>"
   ]
  },
  {
   "cell_type": "code",
   "execution_count": 5,
   "metadata": {},
   "outputs": [],
   "source": [
    "grafo_temporal = TemporalGraph(data.time)"
   ]
  },
  {
   "cell_type": "markdown",
   "metadata": {},
   "source": [
    "Con el grafo temporal construido, creamos las instancias y los enlaces desde la data de ejemplo:"
   ]
  },
  {
   "cell_type": "code",
   "execution_count": 6,
   "metadata": {},
   "outputs": [
    {
     "name": "stdout",
     "output_type": "stream",
     "text": [
      "Enlace:  A B 2018-12-31 00:00:00 A1\n",
      "Enlace:  A C 2019-01-01 00:00:00 A2\n",
      "Enlace:  A E 2019-01-01 00:00:00 A2\n",
      "Enlace:  E D 2019-01-03 00:00:00 E3\n",
      "Enlace:  B C 2019-01-05 00:00:00 B4\n",
      "Enlace:  B D 2019-01-09 00:00:00 B5\n",
      "Enlace:  D B 2019-01-14 00:00:00 D6\n",
      "Enlace:  A D 2019-01-20 00:00:00 A7\n"
     ]
    }
   ],
   "source": [
    "grafo_temporal.build_links_from_data(data=data)"
   ]
  },
  {
   "cell_type": "markdown",
   "metadata": {},
   "source": [
    "Y dibujamos para verificar la correcta creación de los enlaces:"
   ]
  },
  {
   "cell_type": "code",
   "execution_count": 7,
   "metadata": {},
   "outputs": [
    {
     "data": {
      "image/png": "[encoded data removed]",
      "text/plain": [
       "<Figure size 1296x864 with 1 Axes>"
      ]
     },
     "metadata": {},
     "output_type": "display_data"
    }
   ],
   "source": [
    "grafo_temporal.plot()"
   ]
  },
  {
   "cell_type": "markdown",
   "metadata": {},
   "source": [
    "### Caminos (paths):"
   ]
  },
  {
   "cell_type": "markdown",
   "metadata": {},
   "source": [
    "Camino mas corto desde A1 a C4: "
   ]
  },
  {
   "cell_type": "code",
   "execution_count": 8,
   "metadata": {},
   "outputs": [
    {
     "data": {
      "text/plain": [
       "['A1', 'B1', 'B4', 'C4']"
      ]
     },
     "execution_count": 8,
     "metadata": {},
     "output_type": "execute_result"
    }
   ],
   "source": [
    "nx.algorithms.shortest_path(grafo_temporal.get_graph(), 'A1', 'C4')"
   ]
  },
  {
   "cell_type": "markdown",
   "metadata": {},
   "source": [
    "Pero hay dos caminos de igual distancia temporal. Mostrar todos:"
   ]
  },
  {
   "cell_type": "code",
   "execution_count": 9,
   "metadata": {},
   "outputs": [
    {
     "name": "stdout",
     "output_type": "stream",
     "text": [
      "['A1', 'B1', 'B4', 'C4']\n",
      "['A1', 'A2', 'C2', 'C4']\n"
     ]
    }
   ],
   "source": [
    "for p in nx.algorithms.all_shortest_paths(grafo_temporal.get_graph(), 'A1', 'C4'):\n",
    "    print(p)"
   ]
  },
  {
   "cell_type": "markdown",
   "metadata": {},
   "source": [
    "Camino mas corto de B4 a B6:"
   ]
  },
  {
   "cell_type": "code",
   "execution_count": 10,
   "metadata": {},
   "outputs": [
    {
     "name": "stdout",
     "output_type": "stream",
     "text": [
      "['B4', 'B5', 'B6']\n"
     ]
    }
   ],
   "source": [
    "for p in nx.algorithms.all_shortest_paths(grafo_temporal.get_graph(), 'B4', 'B6'):\n",
    "    print(p)"
   ]
  },
  {
   "cell_type": "markdown",
   "metadata": {},
   "source": [
    "Todos los caminos de B4 a B6:"
   ]
  },
  {
   "cell_type": "code",
   "execution_count": 11,
   "metadata": {},
   "outputs": [
    {
     "name": "stdout",
     "output_type": "stream",
     "text": [
      "['B4', 'B5', 'D5', 'D6', 'B6']\n",
      "['B4', 'B5', 'B6']\n"
     ]
    }
   ],
   "source": [
    "for p in nx.algorithms.all_simple_paths(grafo_temporal.get_graph(), 'B4', 'B6'):\n",
    "    print(p)"
   ]
  },
  {
   "cell_type": "markdown",
   "metadata": {},
   "source": [
    "### Instancias de los nodos:"
   ]
  },
  {
   "cell_type": "code",
   "execution_count": 12,
   "metadata": {},
   "outputs": [
    {
     "data": {
      "text/plain": [
       "True"
      ]
     },
     "execution_count": 12,
     "metadata": {},
     "output_type": "execute_result"
    }
   ],
   "source": [
    "grafo_temporal.get_graph().has_node('A2')"
   ]
  },
  {
   "cell_type": "code",
   "execution_count": 13,
   "metadata": {},
   "outputs": [
    {
     "data": {
      "text/plain": [
       "'D5'"
      ]
     },
     "execution_count": 13,
     "metadata": {},
     "output_type": "execute_result"
    }
   ],
   "source": [
    "grafo_temporal._get_first_instance_from_time('D', 5)"
   ]
  },
  {
   "cell_type": "code",
   "execution_count": 14,
   "metadata": {
    "scrolled": true
   },
   "outputs": [
    {
     "data": {
      "text/plain": [
       "'D3'"
      ]
     },
     "execution_count": 14,
     "metadata": {},
     "output_type": "execute_result"
    }
   ],
   "source": [
    "grafo_temporal._get_last_instance_after_time('D', 4)"
   ]
  },
  {
   "cell_type": "code",
   "execution_count": 15,
   "metadata": {},
   "outputs": [
    {
     "name": "stdout",
     "output_type": "stream",
     "text": [
      "Excepcion:\n",
      " No se puede encontrar una instancia del nodo \"D\" posterior al tiempo 9 recibido\n"
     ]
    }
   ],
   "source": [
    "try:\n",
    "    grafo_temporal._get_first_instance_from_time('D', 9)\n",
    "except Exception as e:\n",
    "    print('Excepcion:\\n', e)"
   ]
  },
  {
   "cell_type": "code",
   "execution_count": 16,
   "metadata": {},
   "outputs": [
    {
     "data": {
      "text/plain": [
       "'D3'"
      ]
     },
     "execution_count": 16,
     "metadata": {},
     "output_type": "execute_result"
    }
   ],
   "source": [
    "grafo_temporal._get_first_instance_from_time('D')"
   ]
  },
  {
   "cell_type": "code",
   "execution_count": 17,
   "metadata": {},
   "outputs": [
    {
     "data": {
      "text/plain": [
       "'D3'"
      ]
     },
     "execution_count": 17,
     "metadata": {},
     "output_type": "execute_result"
    }
   ],
   "source": [
    "grafo_temporal._get_last_instance_after_time('D', 4)"
   ]
  },
  {
   "cell_type": "code",
   "execution_count": 18,
   "metadata": {},
   "outputs": [
    {
     "data": {
      "text/plain": [
       "'D6'"
      ]
     },
     "execution_count": 18,
     "metadata": {},
     "output_type": "execute_result"
    }
   ],
   "source": [
    "grafo_temporal._get_last_instance_after_time('D', 6)"
   ]
  },
  {
   "cell_type": "code",
   "execution_count": 19,
   "metadata": {},
   "outputs": [
    {
     "data": {
      "text/plain": [
       "'A2'"
      ]
     },
     "execution_count": 19,
     "metadata": {},
     "output_type": "execute_result"
    }
   ],
   "source": [
    "grafo_temporal._get_last_instance_after_time('A', 5)"
   ]
  },
  {
   "cell_type": "code",
   "execution_count": null,
   "metadata": {},
   "outputs": [],
   "source": []
  },
  {
   "cell_type": "code",
   "execution_count": null,
   "metadata": {},
   "outputs": [],
   "source": []
  },
  {
   "cell_type": "markdown",
   "metadata": {},
   "source": [
    "# Proximidad temporal:"
   ]
  },
  {
   "cell_type": "markdown",
   "metadata": {},
   "source": [
    "En nuestro caso, como nos manejamos con distancias de días, la distancia entre fechas python, nos retorna una cantidad en segundos.\n",
    "\n",
    "Por lo cuál, generamos una funcion que nos pase una cantidad de tiempo en segundos a una cantidad de tiempo en días:"
   ]
  },
  {
   "cell_type": "code",
   "execution_count": 20,
   "metadata": {},
   "outputs": [],
   "source": [
    "def seconds_to_days(seconds):\n",
    "    if seconds is None:\n",
    "        return None\n",
    "    return (seconds / 3600) / 24"
   ]
  },
  {
   "cell_type": "markdown",
   "metadata": {},
   "source": [
    "La distancia temporal entre un nodo X y un nodo Y está definida por:\n",
    "    \n",
    "    p(X,Y,ta,tb) \n",
    "    \n",
    "donde ta es una precondición temporal y tb es una postcondicion temporal.\n",
    "\n",
    "Ambas condiciones temporales (ta y tb) pueden tener un valor o ser null. Lo que nos deja 4 posibles casos."
   ]
  },
  {
   "cell_type": "markdown",
   "metadata": {},
   "source": [
    "### p(A,D,ti,tj): \n",
    "\n",
    "The shortest path between some instance of A, e.g. At2, and some instance of D, e.g. Dt7.\n",
    "\n",
    "This example is equivalent to p(A,D,t2,t7) and intuitively means:\n",
    "\n",
    "    - “Given t2, find the shortest path from A to D such that D is reached at t7”.\n",
    "\n",
    "In this case, the shortest path has weight w(At2,At7,Dt7) = 19, which translates back to AD."
   ]
  },
  {
   "cell_type": "code",
   "execution_count": 21,
   "metadata": {
    "scrolled": true
   },
   "outputs": [
    {
     "data": {
      "text/plain": [
       "['A2', 'A7', 'D7']"
      ]
     },
     "execution_count": 21,
     "metadata": {},
     "output_type": "execute_result"
    }
   ],
   "source": [
    "shortest_path = grafo_temporal.temporal_proximity('A', 'D', 2, 7)\n",
    "shortest_path"
   ]
  },
  {
   "cell_type": "markdown",
   "metadata": {},
   "source": [
    "Peso del camino (segundos):"
   ]
  },
  {
   "cell_type": "code",
   "execution_count": 22,
   "metadata": {},
   "outputs": [
    {
     "data": {
      "text/plain": [
       "1641600.0"
      ]
     },
     "execution_count": 22,
     "metadata": {},
     "output_type": "execute_result"
    }
   ],
   "source": [
    "grafo_temporal.weight(shortest_path)"
   ]
  },
  {
   "cell_type": "markdown",
   "metadata": {},
   "source": [
    "Peso del camino (días):"
   ]
  },
  {
   "cell_type": "code",
   "execution_count": 23,
   "metadata": {},
   "outputs": [
    {
     "data": {
      "text/plain": [
       "19.0"
      ]
     },
     "execution_count": 23,
     "metadata": {},
     "output_type": "execute_result"
    }
   ],
   "source": [
    "seconds_to_days(grafo_temporal.weight(shortest_path))"
   ]
  },
  {
   "cell_type": "code",
   "execution_count": null,
   "metadata": {},
   "outputs": [],
   "source": []
  },
  {
   "cell_type": "code",
   "execution_count": 24,
   "metadata": {},
   "outputs": [
    {
     "data": {
      "text/plain": [
       "['A2', 'A7']"
      ]
     },
     "execution_count": 24,
     "metadata": {},
     "output_type": "execute_result"
    }
   ],
   "source": [
    "grafo_temporal.temporal_proximity('A', 'A', 2, 7)"
   ]
  },
  {
   "cell_type": "code",
   "execution_count": 25,
   "metadata": {},
   "outputs": [
    {
     "data": {
      "text/plain": [
       "['A2', 'E2', 'E3', 'D3', 'D5']"
      ]
     },
     "execution_count": 25,
     "metadata": {},
     "output_type": "execute_result"
    }
   ],
   "source": [
    "grafo_temporal.temporal_proximity('A', 'D', 2, 5)"
   ]
  },
  {
   "cell_type": "code",
   "execution_count": null,
   "metadata": {},
   "outputs": [],
   "source": []
  },
  {
   "cell_type": "code",
   "execution_count": null,
   "metadata": {},
   "outputs": [],
   "source": []
  },
  {
   "cell_type": "markdown",
   "metadata": {},
   "source": [
    "### p(A,D,ti,null):\n",
    "\n",
    "The shortest path between some instance of A, e.g. At1, and any instance of D ({Dt3, Dt5, Dt6, Dt7}).\n",
    "\n",
    "This example is equivalent to p(A,D,t1, null), and intuitively means:\n",
    "    \n",
    "    - “Given time t1, find the shortest path from A to D”.\n",
    "\n",
    "In this case, the shortest path is AED with total weight w(At1,At2,Et2,Et3,Dt3) = 1+0+2+0=3. "
   ]
  },
  {
   "cell_type": "code",
   "execution_count": 26,
   "metadata": {},
   "outputs": [
    {
     "data": {
      "text/plain": [
       "['A1', 'A2', 'E2', 'E3', 'D3']"
      ]
     },
     "execution_count": 26,
     "metadata": {},
     "output_type": "execute_result"
    }
   ],
   "source": [
    "grafo_temporal.temporal_proximity('A', 'D', time_from=1, time_to=None)"
   ]
  },
  {
   "cell_type": "markdown",
   "metadata": {},
   "source": [
    "Peso del camino:"
   ]
  },
  {
   "cell_type": "code",
   "execution_count": 27,
   "metadata": {},
   "outputs": [
    {
     "data": {
      "text/plain": [
       "3.0"
      ]
     },
     "execution_count": 27,
     "metadata": {},
     "output_type": "execute_result"
    }
   ],
   "source": [
    "seconds_to_days(grafo_temporal.weight(grafo_temporal.temporal_proximity('A',\n",
    "                                                                        'D',\n",
    "                                                                        time_from=1,\n",
    "                                                                        time_to=None)))"
   ]
  },
  {
   "cell_type": "code",
   "execution_count": 28,
   "metadata": {},
   "outputs": [
    {
     "data": {
      "text/plain": [
       "['A2', 'E2', 'E3', 'D3']"
      ]
     },
     "execution_count": 28,
     "metadata": {},
     "output_type": "execute_result"
    }
   ],
   "source": [
    "grafo_temporal.temporal_proximity('A', 'D', time_from=2)"
   ]
  },
  {
   "cell_type": "code",
   "execution_count": 29,
   "metadata": {},
   "outputs": [
    {
     "data": {
      "text/plain": [
       "['A7', 'D7']"
      ]
     },
     "execution_count": 29,
     "metadata": {},
     "output_type": "execute_result"
    }
   ],
   "source": [
    "grafo_temporal.temporal_proximity('A', 'D', time_from=4)"
   ]
  },
  {
   "cell_type": "code",
   "execution_count": 30,
   "metadata": {},
   "outputs": [
    {
     "data": {
      "text/plain": [
       "[]"
      ]
     },
     "execution_count": 30,
     "metadata": {},
     "output_type": "execute_result"
    }
   ],
   "source": [
    "grafo_temporal.temporal_proximity('B', 'E', time_from=2)"
   ]
  },
  {
   "cell_type": "code",
   "execution_count": null,
   "metadata": {},
   "outputs": [],
   "source": []
  },
  {
   "cell_type": "code",
   "execution_count": null,
   "metadata": {},
   "outputs": [],
   "source": []
  },
  {
   "cell_type": "markdown",
   "metadata": {},
   "source": [
    "##### Tests:"
   ]
  },
  {
   "cell_type": "markdown",
   "metadata": {},
   "source": [
    "En los algoritmos internos, es conveniente saber si existe un camino desde un nodo a otro o saber todas las instancias de un nodo:"
   ]
  },
  {
   "cell_type": "code",
   "execution_count": 31,
   "metadata": {},
   "outputs": [
    {
     "data": {
      "text/plain": [
       "True"
      ]
     },
     "execution_count": 31,
     "metadata": {},
     "output_type": "execute_result"
    }
   ],
   "source": [
    "nx.algorithms.has_path(grafo_temporal.get_graph(), 'A1', 'D5')"
   ]
  },
  {
   "cell_type": "code",
   "execution_count": 32,
   "metadata": {},
   "outputs": [
    {
     "data": {
      "text/plain": [
       "['A1', 'A2', 'A7']"
      ]
     },
     "execution_count": 32,
     "metadata": {},
     "output_type": "execute_result"
    }
   ],
   "source": [
    "grafo_temporal._get_node_instances('A')"
   ]
  },
  {
   "cell_type": "code",
   "execution_count": 33,
   "metadata": {},
   "outputs": [
    {
     "data": {
      "text/plain": [
       "['A2', 'A7']"
      ]
     },
     "execution_count": 33,
     "metadata": {},
     "output_type": "execute_result"
    }
   ],
   "source": [
    "grafo_temporal._get_node_instances('A', from_time=2)"
   ]
  },
  {
   "cell_type": "code",
   "execution_count": 34,
   "metadata": {},
   "outputs": [
    {
     "data": {
      "text/plain": [
       "['A7']"
      ]
     },
     "execution_count": 34,
     "metadata": {},
     "output_type": "execute_result"
    }
   ],
   "source": [
    "grafo_temporal._get_node_instances('A', from_time=4)"
   ]
  },
  {
   "cell_type": "code",
   "execution_count": 35,
   "metadata": {},
   "outputs": [
    {
     "data": {
      "text/plain": [
       "['A1', 'A2']"
      ]
     },
     "execution_count": 35,
     "metadata": {},
     "output_type": "execute_result"
    }
   ],
   "source": [
    "grafo_temporal._get_node_instances('A', to_time=2)"
   ]
  },
  {
   "cell_type": "code",
   "execution_count": 36,
   "metadata": {},
   "outputs": [
    {
     "data": {
      "text/plain": [
       "['A1', 'A2', 'A7']"
      ]
     },
     "execution_count": 36,
     "metadata": {},
     "output_type": "execute_result"
    }
   ],
   "source": [
    "grafo_temporal._get_node_instances('A', to_time=9)"
   ]
  },
  {
   "cell_type": "code",
   "execution_count": 37,
   "metadata": {
    "scrolled": true
   },
   "outputs": [
    {
     "data": {
      "text/plain": [
       "['A1']"
      ]
     },
     "execution_count": 37,
     "metadata": {},
     "output_type": "execute_result"
    }
   ],
   "source": [
    "grafo_temporal._get_node_instances('A', to_time=1)"
   ]
  },
  {
   "cell_type": "code",
   "execution_count": null,
   "metadata": {},
   "outputs": [],
   "source": []
  },
  {
   "cell_type": "markdown",
   "metadata": {},
   "source": [
    "### p(A,D,null,ti):\n",
    "\n",
    "The shortest path between any instance of A ({At1, At2, At3, At7}) and some instance of D, e.g. Dt5. \n",
    "    \n",
    "This example is equivalent to p(A,D,null,t5) and intuitively means:\n",
    "\n",
    "    - \"Find the shortest path from A to D such that D is reached at t5\".\n",
    "\n",
    "In this case, there are two shortest paths with weight w(At1 At2 Et2 Et3 Dt3 Dt5) = w(At1 Bt1 Bt4 Bt5 Dt5) = 9, which translate back to AED and ABD respectively."
   ]
  },
  {
   "cell_type": "code",
   "execution_count": 38,
   "metadata": {
    "scrolled": true
   },
   "outputs": [
    {
     "data": {
      "text/plain": [
       "['A1', 'B1', 'B4', 'B5', 'D5']"
      ]
     },
     "execution_count": 38,
     "metadata": {},
     "output_type": "execute_result"
    }
   ],
   "source": [
    "shortest_path = grafo_temporal.temporal_proximity('A', 'D', time_to=5)\n",
    "shortest_path"
   ]
  },
  {
   "cell_type": "markdown",
   "metadata": {},
   "source": [
    "Peso del camino:"
   ]
  },
  {
   "cell_type": "code",
   "execution_count": 39,
   "metadata": {},
   "outputs": [
    {
     "data": {
      "text/plain": [
       "9.0"
      ]
     },
     "execution_count": 39,
     "metadata": {},
     "output_type": "execute_result"
    }
   ],
   "source": [
    "seconds_to_days(grafo_temporal.weight(shortest_path))"
   ]
  },
  {
   "cell_type": "code",
   "execution_count": 40,
   "metadata": {},
   "outputs": [
    {
     "data": {
      "text/plain": [
       "['A1', 'B1', 'B4', 'C4']"
      ]
     },
     "execution_count": 40,
     "metadata": {},
     "output_type": "execute_result"
    }
   ],
   "source": [
    "grafo_temporal.temporal_proximity('A', 'C', time_to=4)"
   ]
  },
  {
   "cell_type": "code",
   "execution_count": 41,
   "metadata": {},
   "outputs": [
    {
     "data": {
      "text/plain": [
       "['A1', 'B1', 'B4', 'C4']"
      ]
     },
     "execution_count": 41,
     "metadata": {},
     "output_type": "execute_result"
    }
   ],
   "source": [
    "grafo_temporal.temporal_proximity('A', 'C', time_to=5)"
   ]
  },
  {
   "cell_type": "code",
   "execution_count": 42,
   "metadata": {},
   "outputs": [
    {
     "name": "stdout",
     "output_type": "stream",
     "text": [
      "El nodo destino D no tiene instancias instancias anteriores al tiempo 2\n"
     ]
    }
   ],
   "source": [
    "try:\n",
    "    grafo_temporal.temporal_proximity('A', 'D', time_to=2)\n",
    "except Exception as e:\n",
    "    print(e)"
   ]
  },
  {
   "cell_type": "markdown",
   "metadata": {},
   "source": [
    "### p(A,D,null,null): \n",
    "\n",
    "The shortest path between any instance of A ({At1, At2, At3, At7}) and any instance of D ({Dt3, Dt5, Dt6, Dt7}). This intuitively means:\n",
    "    - \"find the shortest possible path from A to D throughout the entire dataset\".\n",
    "\n",
    "In this case, the shortest path is w(At7,Dt7) = 0, which translates back to AD."
   ]
  },
  {
   "cell_type": "code",
   "execution_count": 43,
   "metadata": {},
   "outputs": [
    {
     "data": {
      "text/plain": [
       "['A7', 'D7']"
      ]
     },
     "execution_count": 43,
     "metadata": {},
     "output_type": "execute_result"
    }
   ],
   "source": [
    "shortest_path = grafo_temporal.temporal_proximity('A', 'D')\n",
    "shortest_path"
   ]
  },
  {
   "cell_type": "code",
   "execution_count": 44,
   "metadata": {},
   "outputs": [
    {
     "data": {
      "text/plain": [
       "0.0"
      ]
     },
     "execution_count": 44,
     "metadata": {},
     "output_type": "execute_result"
    }
   ],
   "source": [
    "seconds_to_days(grafo_temporal.weight(shortest_path))"
   ]
  },
  {
   "cell_type": "code",
   "execution_count": 45,
   "metadata": {},
   "outputs": [
    {
     "data": {
      "text/plain": [
       "['B5', 'D5']"
      ]
     },
     "execution_count": 45,
     "metadata": {},
     "output_type": "execute_result"
    }
   ],
   "source": [
    "grafo_temporal.temporal_proximity('B', 'D')"
   ]
  },
  {
   "cell_type": "code",
   "execution_count": 46,
   "metadata": {},
   "outputs": [
    {
     "data": {
      "text/plain": [
       "['B4', 'C4']"
      ]
     },
     "execution_count": 46,
     "metadata": {},
     "output_type": "execute_result"
    }
   ],
   "source": [
    "grafo_temporal.temporal_proximity('B', 'C')"
   ]
  },
  {
   "cell_type": "code",
   "execution_count": 47,
   "metadata": {},
   "outputs": [
    {
     "data": {
      "text/plain": [
       "[]"
      ]
     },
     "execution_count": 47,
     "metadata": {},
     "output_type": "execute_result"
    }
   ],
   "source": [
    "grafo_temporal.temporal_proximity('E', 'A')"
   ]
  },
  {
   "cell_type": "code",
   "execution_count": 48,
   "metadata": {},
   "outputs": [
    {
     "data": {
      "text/plain": [
       "['E3', 'D3', 'D5', 'D6', 'B6']"
      ]
     },
     "execution_count": 48,
     "metadata": {},
     "output_type": "execute_result"
    }
   ],
   "source": [
    "grafo_temporal.temporal_proximity('E', 'B')"
   ]
  },
  {
   "cell_type": "code",
   "execution_count": 49,
   "metadata": {},
   "outputs": [
    {
     "data": {
      "text/plain": [
       "['E2', 'E3', 'D3', 'D5', 'D6']"
      ]
     },
     "execution_count": 49,
     "metadata": {},
     "output_type": "execute_result"
    }
   ],
   "source": [
    "grafo_temporal.temporal_proximity('E', 'D', time_from=2, time_to=6)"
   ]
  },
  {
   "cell_type": "code",
   "execution_count": null,
   "metadata": {},
   "outputs": [],
   "source": []
  },
  {
   "cell_type": "code",
   "execution_count": null,
   "metadata": {},
   "outputs": [],
   "source": []
  },
  {
   "cell_type": "code",
   "execution_count": null,
   "metadata": {},
   "outputs": [],
   "source": []
  },
  {
   "cell_type": "markdown",
   "metadata": {},
   "source": [
    "### Peso del camino (Path weight): "
   ]
  },
  {
   "cell_type": "code",
   "execution_count": 50,
   "metadata": {},
   "outputs": [
    {
     "data": {
      "text/plain": [
       "{'weight': 432000.0}"
      ]
     },
     "execution_count": 50,
     "metadata": {},
     "output_type": "execute_result"
    }
   ],
   "source": [
    "grafo_temporal.get_graph().get_edge_data('D5', 'D6')"
   ]
  },
  {
   "cell_type": "code",
   "execution_count": 51,
   "metadata": {},
   "outputs": [
    {
     "data": {
      "text/plain": [
       "432000.0"
      ]
     },
     "execution_count": 51,
     "metadata": {},
     "output_type": "execute_result"
    }
   ],
   "source": [
    "grafo_temporal.weight(['D5', 'D6'])"
   ]
  },
  {
   "cell_type": "code",
   "execution_count": 52,
   "metadata": {},
   "outputs": [
    {
     "data": {
      "text/plain": [
       "['A1', 'B1', 'B4', 'B5', 'D5']"
      ]
     },
     "execution_count": 52,
     "metadata": {},
     "output_type": "execute_result"
    }
   ],
   "source": [
    "grafo_temporal.temporal_proximity('A', 'D', time_to=5)"
   ]
  },
  {
   "cell_type": "code",
   "execution_count": 53,
   "metadata": {},
   "outputs": [
    {
     "data": {
      "text/plain": [
       "777600.0"
      ]
     },
     "execution_count": 53,
     "metadata": {},
     "output_type": "execute_result"
    }
   ],
   "source": [
    "grafo_temporal.weight(['A1', 'A2', 'E2', 'E3', 'D3', 'D5'])"
   ]
  },
  {
   "cell_type": "code",
   "execution_count": 54,
   "metadata": {},
   "outputs": [
    {
     "data": {
      "text/plain": [
       "777600.0"
      ]
     },
     "execution_count": 54,
     "metadata": {},
     "output_type": "execute_result"
    }
   ],
   "source": [
    "grafo_temporal.weight(grafo_temporal.temporal_proximity('A', 'D', time_to=5))"
   ]
  },
  {
   "cell_type": "code",
   "execution_count": 55,
   "metadata": {},
   "outputs": [
    {
     "data": {
      "text/plain": [
       "['A1', 'A2', 'C2']"
      ]
     },
     "execution_count": 55,
     "metadata": {},
     "output_type": "execute_result"
    }
   ],
   "source": [
    "grafo_temporal.temporal_proximity('A', 'C', time_to=2)"
   ]
  },
  {
   "cell_type": "code",
   "execution_count": 56,
   "metadata": {},
   "outputs": [
    {
     "data": {
      "text/plain": [
       "86400.0"
      ]
     },
     "execution_count": 56,
     "metadata": {},
     "output_type": "execute_result"
    }
   ],
   "source": [
    "grafo_temporal.weight(['A1', 'A2', 'C2'])"
   ]
  },
  {
   "cell_type": "code",
   "execution_count": 57,
   "metadata": {},
   "outputs": [
    {
     "data": {
      "text/plain": [
       "86400.0"
      ]
     },
     "execution_count": 57,
     "metadata": {},
     "output_type": "execute_result"
    }
   ],
   "source": [
    "grafo_temporal.weight(['A1', 'A2'])"
   ]
  },
  {
   "cell_type": "code",
   "execution_count": null,
   "metadata": {},
   "outputs": [],
   "source": []
  },
  {
   "cell_type": "markdown",
   "metadata": {},
   "source": [
    "## Proximidad temporal promedio:"
   ]
  },
  {
   "cell_type": "code",
   "execution_count": 58,
   "metadata": {},
   "outputs": [
    {
     "name": "stdout",
     "output_type": "stream",
     "text": [
      "144000.0 --> 1.6666666666666667\n"
     ]
    }
   ],
   "source": [
    "avg_tmp_proximity = grafo_temporal.average_temporal_proximity('A', 'D')\n",
    "print(avg_tmp_proximity, '-->', seconds_to_days(avg_tmp_proximity))"
   ]
  },
  {
   "cell_type": "code",
   "execution_count": 59,
   "metadata": {},
   "outputs": [
    {
     "name": "stdout",
     "output_type": "stream",
     "text": [
      "86400.0 --> 1.0\n"
     ]
    }
   ],
   "source": [
    "print(grafo_temporal.weight(['A1', 'A2']), '-->', seconds_to_days(grafo_temporal.weight(['A1', 'A2'])))"
   ]
  },
  {
   "cell_type": "code",
   "execution_count": 60,
   "metadata": {},
   "outputs": [
    {
     "name": "stdout",
     "output_type": "stream",
     "text": [
      "Average temporal proximity from A to D\n",
      "\n",
      "-- Iteration start --\n",
      "Temporal proximity from A to D\n",
      "\n",
      "\tSearching from: A1\n",
      "\tFrom: A1\n",
      "\tDestination: D3?\n",
      "\t\tHave path, save: \n",
      "\t\t['A1', 'A2', 'E2', 'E3', 'D3']\n",
      "\t\tnext node instance destination...\n",
      "In t:1\n",
      "\tdistance from A to D\n",
      "\tpath: ['A1', 'A2', 'E2', 'E3', 'D3']\n",
      "\n",
      "\n",
      "Temporal proximity from A to D\n",
      "\n",
      "\tSearching from: A2\n",
      "\tFrom: A2\n",
      "\tDestination: D3?\n",
      "\t\tHave path, save: \n",
      "\t\t['A2', 'E2', 'E3', 'D3']\n",
      "\t\tnext node instance destination...\n",
      "In t:2\n",
      "\tdistance from A to D\n",
      "\tpath: ['A2', 'E2', 'E3', 'D3']\n",
      "\n",
      "\n",
      "Temporal proximity from A to D\n",
      "\n",
      "\tSearching from: A7\n",
      "\tFrom: A7\n",
      "\tDestination: D7?\n",
      "\t\tHave path, save: \n",
      "\t\t['A7', 'D7']\n",
      "\t\tnext node instance destination...\n",
      "In t:7\n",
      "\tdistance from A to D\n",
      "\tpath: ['A7', 'D7']\n",
      "\n",
      "\n",
      "-- Iteration finished --\n"
     ]
    },
    {
     "data": {
      "text/plain": [
       "144000.0"
      ]
     },
     "execution_count": 60,
     "metadata": {},
     "output_type": "execute_result"
    }
   ],
   "source": [
    "grafo_temporal.average_temporal_proximity('A', 'D', verbose=True)"
   ]
  },
  {
   "cell_type": "code",
   "execution_count": 61,
   "metadata": {},
   "outputs": [
    {
     "data": {
      "text/plain": [
       "1.6666666666666667"
      ]
     },
     "execution_count": 61,
     "metadata": {},
     "output_type": "execute_result"
    }
   ],
   "source": [
    "seconds_to_days(144000)"
   ]
  },
  {
   "cell_type": "code",
   "execution_count": 62,
   "metadata": {},
   "outputs": [
    {
     "data": {
      "text/plain": [
       "3.0"
      ]
     },
     "execution_count": 62,
     "metadata": {},
     "output_type": "execute_result"
    }
   ],
   "source": [
    "# A a D desde t1\n",
    "seconds = grafo_temporal.weight(['A1', 'A2', 'E2', 'E3', 'D3'])\n",
    "(seconds/3600)/24"
   ]
  },
  {
   "cell_type": "code",
   "execution_count": 63,
   "metadata": {
    "scrolled": true
   },
   "outputs": [
    {
     "data": {
      "text/plain": [
       "2.0"
      ]
     },
     "execution_count": 63,
     "metadata": {},
     "output_type": "execute_result"
    }
   ],
   "source": [
    "# A a D desde t2\n",
    "seconds = grafo_temporal.weight(['A2', 'E2', 'E3', 'D3'])\n",
    "((seconds)/3600)/24"
   ]
  },
  {
   "cell_type": "code",
   "execution_count": null,
   "metadata": {},
   "outputs": [],
   "source": []
  },
  {
   "cell_type": "code",
   "execution_count": 64,
   "metadata": {
    "scrolled": true
   },
   "outputs": [
    {
     "name": "stdout",
     "output_type": "stream",
     "text": [
      "Average temporal proximity from A to B\n",
      "\n",
      "-- Iteration start --\n",
      "Temporal proximity from A to B\n",
      "\n",
      "\tSearching from: A1\n",
      "\tFrom: A1\n",
      "\tDestination: B1?\n",
      "\t\tHave path, save: \n",
      "\t\t['A1', 'B1']\n",
      "\t\tnext node instance destination...\n",
      "In t:1\n",
      "\tdistance from A to B\n",
      "\tpath: ['A1', 'B1']\n",
      "\n",
      "\n",
      "Temporal proximity from A to B\n",
      "\n",
      "\tSearching from: A2\n",
      "\tFrom: A2\n",
      "\tDestination: B4?\n",
      "\tDestination: B5?\n",
      "\tDestination: B6?\n",
      "\t\tHave path, save: \n",
      "\t\t['A2', 'E2', 'E3', 'D3', 'D5', 'D6', 'B6']\n",
      "\t\tnext node instance destination...\n",
      "In t:2\n",
      "\tdistance from A to B\n",
      "\tpath: ['A2', 'E2', 'E3', 'D3', 'D5', 'D6', 'B6']\n",
      "\n",
      "\n",
      "Temporal proximity from A to B\n",
      "\n",
      "\tSearching from: A7\n",
      "\tFrom: A7\n",
      "In t:7\n",
      "\tdistance from A to B\n",
      "\tpath: []\n",
      "\n",
      "\n",
      "-- Iteration finished --\n"
     ]
    },
    {
     "data": {
      "text/plain": [
       "6.5"
      ]
     },
     "execution_count": 64,
     "metadata": {},
     "output_type": "execute_result"
    }
   ],
   "source": [
    "(grafo_temporal.average_temporal_proximity('A', 'B', verbose=True) / 3600) / 24"
   ]
  },
  {
   "cell_type": "code",
   "execution_count": 65,
   "metadata": {},
   "outputs": [
    {
     "data": {
      "text/plain": [
       "0.5"
      ]
     },
     "execution_count": 65,
     "metadata": {},
     "output_type": "execute_result"
    }
   ],
   "source": [
    "(grafo_temporal.average_temporal_proximity('A', 'C') / 3600) / 24"
   ]
  },
  {
   "cell_type": "code",
   "execution_count": 66,
   "metadata": {},
   "outputs": [
    {
     "data": {
      "text/plain": [
       "1.6666666666666667"
      ]
     },
     "execution_count": 66,
     "metadata": {},
     "output_type": "execute_result"
    }
   ],
   "source": [
    "(grafo_temporal.average_temporal_proximity('A', 'D') / 3600) / 24"
   ]
  },
  {
   "cell_type": "code",
   "execution_count": 67,
   "metadata": {},
   "outputs": [
    {
     "data": {
      "text/plain": [
       "0.5"
      ]
     },
     "execution_count": 67,
     "metadata": {},
     "output_type": "execute_result"
    }
   ],
   "source": [
    "(grafo_temporal.average_temporal_proximity('A', 'E') / 3600) / 24"
   ]
  },
  {
   "cell_type": "code",
   "execution_count": 68,
   "metadata": {},
   "outputs": [
    {
     "data": {
      "text/plain": [
       "2.5"
      ]
     },
     "execution_count": 68,
     "metadata": {},
     "output_type": "execute_result"
    }
   ],
   "source": [
    "(grafo_temporal.average_temporal_proximity('B', 'C') / 3600) / 24"
   ]
  },
  {
   "cell_type": "code",
   "execution_count": 69,
   "metadata": {},
   "outputs": [
    {
     "data": {
      "text/plain": [
       "4.333333333333333"
      ]
     },
     "execution_count": 69,
     "metadata": {},
     "output_type": "execute_result"
    }
   ],
   "source": [
    "(grafo_temporal.average_temporal_proximity('B', 'D') / 3600) / 24"
   ]
  },
  {
   "cell_type": "markdown",
   "metadata": {},
   "source": [
    "Distancia temporal promedio nula:"
   ]
  },
  {
   "cell_type": "code",
   "execution_count": 70,
   "metadata": {},
   "outputs": [
    {
     "name": "stdout",
     "output_type": "stream",
     "text": [
      "Average temporal proximity from B to A\n",
      "\n",
      "-- Iteration start --\n",
      "Temporal proximity from B to A\n",
      "\n",
      "\tSearching from: B1\n",
      "\tFrom: B1\n",
      "\tDestination: A1?\n",
      "\tDestination: A2?\n",
      "\tDestination: A7?\n",
      "In t:1\n",
      "\tdistance from B to A\n",
      "\tpath: []\n",
      "\n",
      "\n",
      "Temporal proximity from B to A\n",
      "\n",
      "\tSearching from: B4\n",
      "\tFrom: B4\n",
      "\tDestination: A7?\n",
      "In t:4\n",
      "\tdistance from B to A\n",
      "\tpath: []\n",
      "\n",
      "\n",
      "Temporal proximity from B to A\n",
      "\n",
      "\tSearching from: B5\n",
      "\tFrom: B5\n",
      "\tDestination: A7?\n",
      "In t:5\n",
      "\tdistance from B to A\n",
      "\tpath: []\n",
      "\n",
      "\n",
      "Temporal proximity from B to A\n",
      "\n",
      "\tSearching from: B6\n",
      "\tFrom: B6\n",
      "\tDestination: A7?\n",
      "In t:6\n",
      "\tdistance from B to A\n",
      "\tpath: []\n",
      "\n",
      "\n",
      "-- Iteration finished --\n"
     ]
    }
   ],
   "source": [
    "grafo_temporal.average_temporal_proximity('B', 'A', verbose=True)"
   ]
  },
  {
   "cell_type": "markdown",
   "metadata": {},
   "source": [
    "Distancia temporal promedio 0:"
   ]
  },
  {
   "cell_type": "code",
   "execution_count": 71,
   "metadata": {},
   "outputs": [
    {
     "name": "stdout",
     "output_type": "stream",
     "text": [
      "Average temporal proximity from B to B\n",
      "\n",
      "-- Iteration start --\n",
      "Temporal proximity from B to B\n",
      "\n",
      "\tSearching from: B1\n",
      "\tFrom: B1\n",
      "\tDestination: B1?\n",
      "\t\tHave path, save: \n",
      "\t\t['B1']\n",
      "\t\tnext node instance destination...\n",
      "In t:1\n",
      "\tdistance from B to B\n",
      "\tpath: ['B1']\n",
      "\n",
      "\n",
      "Temporal proximity from B to B\n",
      "\n",
      "\tSearching from: B4\n",
      "\tFrom: B4\n",
      "\tDestination: B4?\n",
      "\t\tHave path, save: \n",
      "\t\t['B4']\n",
      "\t\tnext node instance destination...\n",
      "In t:4\n",
      "\tdistance from B to B\n",
      "\tpath: ['B4']\n",
      "\n",
      "\n",
      "Temporal proximity from B to B\n",
      "\n",
      "\tSearching from: B5\n",
      "\tFrom: B5\n",
      "\tDestination: B5?\n",
      "\t\tHave path, save: \n",
      "\t\t['B5']\n",
      "\t\tnext node instance destination...\n",
      "In t:5\n",
      "\tdistance from B to B\n",
      "\tpath: ['B5']\n",
      "\n",
      "\n",
      "Temporal proximity from B to B\n",
      "\n",
      "\tSearching from: B6\n",
      "\tFrom: B6\n",
      "\tDestination: B6?\n",
      "\t\tHave path, save: \n",
      "\t\t['B6']\n",
      "\t\tnext node instance destination...\n",
      "In t:6\n",
      "\tdistance from B to B\n",
      "\tpath: ['B6']\n",
      "\n",
      "\n",
      "-- Iteration finished --\n"
     ]
    },
    {
     "data": {
      "text/plain": [
       "0.0"
      ]
     },
     "execution_count": 71,
     "metadata": {},
     "output_type": "execute_result"
    }
   ],
   "source": [
    "seconds_to_days((grafo_temporal.average_temporal_proximity('B', 'B', verbose=True)))"
   ]
  },
  {
   "cell_type": "code",
   "execution_count": 72,
   "metadata": {},
   "outputs": [
    {
     "name": "stdout",
     "output_type": "stream",
     "text": [
      "Average temporal proximity from D to B\n",
      "\n",
      "-- Iteration start --\n",
      "Temporal proximity from D to B\n",
      "\n",
      "\tSearching from: D3\n",
      "\tFrom: D3\n",
      "\tDestination: B4?\n",
      "\tDestination: B5?\n",
      "\tDestination: B6?\n",
      "\t\tHave path, save: \n",
      "\t\t['D3', 'D5', 'D6', 'B6']\n",
      "\t\tnext node instance destination...\n",
      "In t:3\n",
      "\tdistance from D to B\n",
      "\tpath: ['D3', 'D5', 'D6', 'B6']\n",
      "\n",
      "\n",
      "Temporal proximity from D to B\n",
      "\n",
      "\tSearching from: D5\n",
      "\tFrom: D5\n",
      "\tDestination: B5?\n",
      "\tDestination: B6?\n",
      "\t\tHave path, save: \n",
      "\t\t['D5', 'D6', 'B6']\n",
      "\t\tnext node instance destination...\n",
      "In t:5\n",
      "\tdistance from D to B\n",
      "\tpath: ['D5', 'D6', 'B6']\n",
      "\n",
      "\n",
      "Temporal proximity from D to B\n",
      "\n",
      "\tSearching from: D6\n",
      "\tFrom: D6\n",
      "\tDestination: B6?\n",
      "\t\tHave path, save: \n",
      "\t\t['D6', 'B6']\n",
      "\t\tnext node instance destination...\n",
      "In t:6\n",
      "\tdistance from D to B\n",
      "\tpath: ['D6', 'B6']\n",
      "\n",
      "\n",
      "Temporal proximity from D to B\n",
      "\n",
      "\tSearching from: D7\n",
      "\tFrom: D7\n",
      "In t:7\n",
      "\tdistance from D to B\n",
      "\tpath: []\n",
      "\n",
      "\n",
      "-- Iteration finished --\n"
     ]
    },
    {
     "data": {
      "text/plain": [
       "5.333333333333333"
      ]
     },
     "execution_count": 72,
     "metadata": {},
     "output_type": "execute_result"
    }
   ],
   "source": [
    "(grafo_temporal.average_temporal_proximity('D', 'B', verbose=True) / 3600) / 24"
   ]
  },
  {
   "cell_type": "code",
   "execution_count": 73,
   "metadata": {},
   "outputs": [
    {
     "name": "stdout",
     "output_type": "stream",
     "text": [
      "Average temporal proximity from E to B\n",
      "\n",
      "-- Iteration start --\n",
      "Temporal proximity from E to B\n",
      "\n",
      "\tSearching from: E2\n",
      "\tFrom: E2\n",
      "\tDestination: B4?\n",
      "\tDestination: B5?\n",
      "\tDestination: B6?\n",
      "\t\tHave path, save: \n",
      "\t\t['E2', 'E3', 'D3', 'D5', 'D6', 'B6']\n",
      "\t\tnext node instance destination...\n",
      "In t:2\n",
      "\tdistance from E to B\n",
      "\tpath: ['E2', 'E3', 'D3', 'D5', 'D6', 'B6']\n",
      "\n",
      "\n",
      "Temporal proximity from E to B\n",
      "\n",
      "\tSearching from: E3\n",
      "\tFrom: E3\n",
      "\tDestination: B4?\n",
      "\tDestination: B5?\n",
      "\tDestination: B6?\n",
      "\t\tHave path, save: \n",
      "\t\t['E3', 'D3', 'D5', 'D6', 'B6']\n",
      "\t\tnext node instance destination...\n",
      "In t:3\n",
      "\tdistance from E to B\n",
      "\tpath: ['E3', 'D3', 'D5', 'D6', 'B6']\n",
      "\n",
      "\n",
      "-- Iteration finished --\n"
     ]
    },
    {
     "data": {
      "text/plain": [
       "12.0"
      ]
     },
     "execution_count": 73,
     "metadata": {},
     "output_type": "execute_result"
    }
   ],
   "source": [
    "(grafo_temporal.average_temporal_proximity('E', 'B', verbose=True) / 3600) / 24"
   ]
  },
  {
   "cell_type": "code",
   "execution_count": null,
   "metadata": {},
   "outputs": [],
   "source": []
  },
  {
   "cell_type": "code",
   "execution_count": null,
   "metadata": {},
   "outputs": [],
   "source": []
  },
  {
   "cell_type": "markdown",
   "metadata": {},
   "source": [
    "### Por último, construir la tabla de proximidades temporales."
   ]
  },
  {
   "cell_type": "code",
   "execution_count": 74,
   "metadata": {},
   "outputs": [
    {
     "data": {
      "text/plain": [
       "4.333333333333333"
      ]
     },
     "execution_count": 74,
     "metadata": {},
     "output_type": "execute_result"
    }
   ],
   "source": [
    "seconds_to_days(\n",
    "    grafo_temporal.average_temporal_proximity('B', 'D'))"
   ]
  },
  {
   "cell_type": "code",
   "execution_count": 75,
   "metadata": {},
   "outputs": [
    {
     "data": {
      "text/plain": [
       "5.333333333333333"
      ]
     },
     "execution_count": 75,
     "metadata": {},
     "output_type": "execute_result"
    }
   ],
   "source": [
    "seconds_to_days(\n",
    "    grafo_temporal.average_temporal_proximity('D', 'B'))"
   ]
  },
  {
   "cell_type": "code",
   "execution_count": null,
   "metadata": {},
   "outputs": [],
   "source": []
  },
  {
   "cell_type": "markdown",
   "metadata": {},
   "source": [
    "Nodos:"
   ]
  },
  {
   "cell_type": "code",
   "execution_count": 76,
   "metadata": {},
   "outputs": [
    {
     "data": {
      "text/plain": [
       "['A', 'B', 'C', 'D', 'E']"
      ]
     },
     "execution_count": 76,
     "metadata": {},
     "output_type": "execute_result"
    }
   ],
   "source": [
    "nodos = list(pd.Series(data.sender.unique()).append(pd.Series(data.recipient[ data.recipient.str.len() == 1].unique())))\n",
    "nodos = sorted(list(set(nodos)))\n",
    "nodos"
   ]
  },
  {
   "cell_type": "code",
   "execution_count": 77,
   "metadata": {},
   "outputs": [
    {
     "data": {
      "text/plain": [
       "{'A': [0.0, None, None, None, None, None],\n",
       " 'B': [6.5, 0.0, None, 5.333333333333333, 12.0, 7.944444444444444],\n",
       " 'C': [0.5, 2.5, 0.0, None, None, 1.5],\n",
       " 'D': [1.6666666666666667,\n",
       "  4.333333333333333,\n",
       "  None,\n",
       "  0.0,\n",
       "  1.0,\n",
       "  2.3333333333333335],\n",
       " 'E': [0.5, None, None, None, 0.0, 0.5]}"
      ]
     },
     "execution_count": 77,
     "metadata": {},
     "output_type": "execute_result"
    }
   ],
   "source": [
    "table = {}\n",
    "for nodo in nodos:\n",
    "    # Para cada nodo:\n",
    "    # Primero calcular las proximidades temporales promedios contra los demas nodos:\n",
    "    table[nodo] = [\n",
    "        seconds_to_days(grafo_temporal.average_temporal_proximity( y, nodo ))\n",
    "        for y in nodos ]\n",
    "    \n",
    "    # Luego agregar a la lista el promedio de alcance hacia el nodo\n",
    "    # por parte de los demas nodos:\n",
    "    \n",
    "    # entonces, filtrar para eliminar los valores None:\n",
    "    vertical_avgs = list(filter(lambda e: e is not None, table[nodo]))\n",
    "    try:\n",
    "        # agregar el P_in para el nodo\n",
    "        table[nodo].append(\n",
    "            sum( vertical_avgs ) / (len( vertical_avgs ) -1))  # -1 para no contemplar la distancia hacia el propio nodo\n",
    "    except ZeroDivisionError:\n",
    "        table[nodo].append(None)\n",
    "table"
   ]
  },
  {
   "cell_type": "markdown",
   "metadata": {},
   "source": [
    "Nos hace falta una nueva columna con los valores de cuán rápido alcanza la red cada nodo (P out): "
   ]
  },
  {
   "cell_type": "code",
   "execution_count": 78,
   "metadata": {},
   "outputs": [
    {
     "data": {
      "text/plain": [
       "[2.2916666666666665, 3.4166666666666665, None, 5.333333333333333, 6.5, '-']"
      ]
     },
     "execution_count": 78,
     "metadata": {},
     "output_type": "execute_result"
    }
   ],
   "source": [
    "P_out = []\n",
    "for nodo in nodos:\n",
    "    # Invertir el lugar del nodo para obtener la vista horizontal:\n",
    "    horizontal_avgs = [\n",
    "        seconds_to_days(\n",
    "            grafo_temporal.average_temporal_proximity( nodo, y ))\n",
    "        for y in nodos ]\n",
    "    horizontal_avgs = list(\n",
    "        filter(\n",
    "            lambda i_avg: i_avg is not None,\n",
    "            horizontal_avgs))\n",
    "    try:\n",
    "        P_out.append(sum(horizontal_avgs) / (len(horizontal_avgs) -1))\n",
    "    except ZeroDivisionError:\n",
    "        P_out.append(None)\n",
    "P_out.append('-')\n",
    "P_out"
   ]
  },
  {
   "cell_type": "code",
   "execution_count": 79,
   "metadata": {},
   "outputs": [
    {
     "data": {
      "text/plain": [
       "{'A': [0.0, None, None, None, None, None],\n",
       " 'B': [6.5, 0.0, None, 5.333333333333333, 12.0, 7.944444444444444],\n",
       " 'C': [0.5, 2.5, 0.0, None, None, 1.5],\n",
       " 'D': [1.6666666666666667,\n",
       "  4.333333333333333,\n",
       "  None,\n",
       "  0.0,\n",
       "  1.0,\n",
       "  2.3333333333333335],\n",
       " 'E': [0.5, None, None, None, 0.0, 0.5],\n",
       " 'Pout': [2.2916666666666665,\n",
       "  3.4166666666666665,\n",
       "  None,\n",
       "  5.333333333333333,\n",
       "  6.5,\n",
       "  '-']}"
      ]
     },
     "execution_count": 79,
     "metadata": {},
     "output_type": "execute_result"
    }
   ],
   "source": [
    "table['Pout'] = P_out\n",
    "table"
   ]
  },
  {
   "cell_type": "code",
   "execution_count": 80,
   "metadata": {},
   "outputs": [
    {
     "data": {
      "text/plain": [
       "['A', 'B', 'C', 'D', 'E', 'Pin']"
      ]
     },
     "execution_count": 80,
     "metadata": {},
     "output_type": "execute_result"
    }
   ],
   "source": [
    "index = nodos.copy()\n",
    "index.append('Pin')\n",
    "index"
   ]
  },
  {
   "cell_type": "code",
   "execution_count": 81,
   "metadata": {},
   "outputs": [
    {
     "data": {
      "text/plain": [
       "['A', 'B', 'C', 'D', 'E']"
      ]
     },
     "execution_count": 81,
     "metadata": {},
     "output_type": "execute_result"
    }
   ],
   "source": [
    "nodos"
   ]
  },
  {
   "cell_type": "code",
   "execution_count": 82,
   "metadata": {},
   "outputs": [
    {
     "data": {
      "text/plain": [
       "{'A': [0.0, '-', '-', '-', '-', '-'],\n",
       " 'B': [6.5, 0.0, '-', 5.333333333333333, 12.0, 7.944444444444444],\n",
       " 'C': [0.5, 2.5, 0.0, '-', '-', 1.5],\n",
       " 'D': [1.6666666666666667,\n",
       "  4.333333333333333,\n",
       "  '-',\n",
       "  0.0,\n",
       "  1.0,\n",
       "  2.3333333333333335],\n",
       " 'E': [0.5, '-', '-', '-', 0.0, 0.5],\n",
       " 'Pout': [2.2916666666666665,\n",
       "  3.4166666666666665,\n",
       "  '-',\n",
       "  5.333333333333333,\n",
       "  6.5,\n",
       "  '-']}"
      ]
     },
     "execution_count": 82,
     "metadata": {},
     "output_type": "execute_result"
    }
   ],
   "source": [
    "for nodo in table:\n",
    "    table[nodo] = [value if value is not None else '-' for value in table[nodo]]\n",
    "table"
   ]
  },
  {
   "cell_type": "markdown",
   "metadata": {},
   "source": [
    "##### tabla:"
   ]
  },
  {
   "cell_type": "code",
   "execution_count": 83,
   "metadata": {},
   "outputs": [
    {
     "data": {
      "text/html": [
       "<div>\n",
       "<style scoped>\n",
       "    .dataframe tbody tr th:only-of-type {\n",
       "        vertical-align: middle;\n",
       "    }\n",
       "\n",
       "    .dataframe tbody tr th {\n",
       "        vertical-align: top;\n",
       "    }\n",
       "\n",
       "    .dataframe thead th {\n",
       "        text-align: right;\n",
       "    }\n",
       "</style>\n",
       "<table border=\"1\" class=\"dataframe\">\n",
       "  <thead>\n",
       "    <tr style=\"text-align: right;\">\n",
       "      <th></th>\n",
       "      <th>A</th>\n",
       "      <th>B</th>\n",
       "      <th>C</th>\n",
       "      <th>D</th>\n",
       "      <th>E</th>\n",
       "      <th>Pout</th>\n",
       "    </tr>\n",
       "  </thead>\n",
       "  <tbody>\n",
       "    <tr>\n",
       "      <th>A</th>\n",
       "      <td>0</td>\n",
       "      <td>6.5</td>\n",
       "      <td>0.5</td>\n",
       "      <td>1.66667</td>\n",
       "      <td>0.5</td>\n",
       "      <td>2.29167</td>\n",
       "    </tr>\n",
       "    <tr>\n",
       "      <th>B</th>\n",
       "      <td>-</td>\n",
       "      <td>0</td>\n",
       "      <td>2.5</td>\n",
       "      <td>4.33333</td>\n",
       "      <td>-</td>\n",
       "      <td>3.41667</td>\n",
       "    </tr>\n",
       "    <tr>\n",
       "      <th>C</th>\n",
       "      <td>-</td>\n",
       "      <td>-</td>\n",
       "      <td>0</td>\n",
       "      <td>-</td>\n",
       "      <td>-</td>\n",
       "      <td>-</td>\n",
       "    </tr>\n",
       "    <tr>\n",
       "      <th>D</th>\n",
       "      <td>-</td>\n",
       "      <td>5.33333</td>\n",
       "      <td>-</td>\n",
       "      <td>0</td>\n",
       "      <td>-</td>\n",
       "      <td>5.33333</td>\n",
       "    </tr>\n",
       "    <tr>\n",
       "      <th>E</th>\n",
       "      <td>-</td>\n",
       "      <td>12</td>\n",
       "      <td>-</td>\n",
       "      <td>1</td>\n",
       "      <td>0</td>\n",
       "      <td>6.5</td>\n",
       "    </tr>\n",
       "    <tr>\n",
       "      <th>Pin</th>\n",
       "      <td>-</td>\n",
       "      <td>7.94444</td>\n",
       "      <td>1.5</td>\n",
       "      <td>2.33333</td>\n",
       "      <td>0.5</td>\n",
       "      <td>-</td>\n",
       "    </tr>\n",
       "  </tbody>\n",
       "</table>\n",
       "</div>"
      ],
      "text/plain": [
       "     A        B    C        D    E     Pout\n",
       "A    0      6.5  0.5  1.66667  0.5  2.29167\n",
       "B    -        0  2.5  4.33333    -  3.41667\n",
       "C    -        -    0        -    -        -\n",
       "D    -  5.33333    -        0    -  5.33333\n",
       "E    -       12    -        1    0      6.5\n",
       "Pin  -  7.94444  1.5  2.33333  0.5        -"
      ]
     },
     "execution_count": 83,
     "metadata": {},
     "output_type": "execute_result"
    }
   ],
   "source": [
    "average_temporal_proximities = pd.DataFrame(table, index=index)\n",
    "average_temporal_proximities"
   ]
  },
  {
   "cell_type": "markdown",
   "metadata": {},
   "source": [
    "> TODO: Generar los metodos que nos permitan solicitar estos valores al grafo temporal:"
   ]
  },
  {
   "cell_type": "markdown",
   "metadata": {},
   "source": [
    "### Proximidades temporales promedios contra los demás nodos:"
   ]
  },
  {
   "cell_type": "markdown",
   "metadata": {},
   "source": [
    "#### Desde un nodo:"
   ]
  },
  {
   "cell_type": "code",
   "execution_count": 125,
   "metadata": {},
   "outputs": [
    {
     "data": {
      "text/plain": [
       "{'A': 0.0, 'B': 561600.0, 'C': 43200.0, 'D': 144000.0, 'E': 43200.0}"
      ]
     },
     "execution_count": 125,
     "metadata": {},
     "output_type": "execute_result"
    }
   ],
   "source": [
    "avg_tmp_proxs_from_a = grafo_temporal.average_temporal_proximity_from_node('A')\n",
    "avg_tmp_proxs_from_a"
   ]
  },
  {
   "cell_type": "markdown",
   "metadata": {},
   "source": [
    "pasar a dias:"
   ]
  },
  {
   "cell_type": "code",
   "execution_count": 127,
   "metadata": {},
   "outputs": [
    {
     "data": {
      "text/plain": [
       "[0.0, 6.5, 0.5, 1.6666666666666667, 0.5]"
      ]
     },
     "execution_count": 127,
     "metadata": {},
     "output_type": "execute_result"
    }
   ],
   "source": [
    "[seconds_to_days(avg_tmp_proxs_from_a.get(e)) for e in avg_tmp_proxs_from_a]"
   ]
  },
  {
   "cell_type": "markdown",
   "metadata": {},
   "source": [
    "Alcance del nodo hacia el resto de nodos del grafo (promedio de los valores no nulos del vector de arriba):"
   ]
  },
  {
   "cell_type": "code",
   "execution_count": 132,
   "metadata": {},
   "outputs": [
    {
     "data": {
      "text/plain": [
       "198000.0"
      ]
     },
     "execution_count": 132,
     "metadata": {},
     "output_type": "execute_result"
    }
   ],
   "source": [
    "grafo_temporal.average_temporal_reach('A')"
   ]
  },
  {
   "cell_type": "markdown",
   "metadata": {},
   "source": [
    "...expresado en días:"
   ]
  },
  {
   "cell_type": "code",
   "execution_count": 134,
   "metadata": {},
   "outputs": [
    {
     "data": {
      "text/plain": [
       "2.2916666666666665"
      ]
     },
     "execution_count": 134,
     "metadata": {},
     "output_type": "execute_result"
    }
   ],
   "source": [
    "seconds_to_days(grafo_temporal.average_temporal_reach('A'))"
   ]
  },
  {
   "cell_type": "markdown",
   "metadata": {},
   "source": [
    "mismo test para el nodo E:"
   ]
  },
  {
   "cell_type": "code",
   "execution_count": 136,
   "metadata": {},
   "outputs": [
    {
     "name": "stdout",
     "output_type": "stream",
     "text": [
      "{'A': None, 'B': 1036800.0, 'C': None, 'D': 86400.0, 'E': 0.0} --> P out: 6.5\n"
     ]
    }
   ],
   "source": [
    "print(\n",
    "    grafo_temporal.average_temporal_proximity_from_node('E'),\n",
    "    '--> P out:',\n",
    "    seconds_to_days(grafo_temporal.average_temporal_reach('E')))"
   ]
  },
  {
   "cell_type": "code",
   "execution_count": null,
   "metadata": {},
   "outputs": [],
   "source": []
  },
  {
   "cell_type": "markdown",
   "metadata": {},
   "source": [
    "#### Hasta un nodo:"
   ]
  },
  {
   "cell_type": "code",
   "execution_count": 137,
   "metadata": {},
   "outputs": [
    {
     "data": {
      "text/plain": [
       "{'A': 0.0, 'B': None, 'C': None, 'D': None, 'E': None}"
      ]
     },
     "execution_count": 137,
     "metadata": {},
     "output_type": "execute_result"
    }
   ],
   "source": [
    "grafo_temporal.average_temporal_proximity_to_node('A')"
   ]
  },
  {
   "cell_type": "code",
   "execution_count": 141,
   "metadata": {},
   "outputs": [
    {
     "data": {
      "text/plain": [
       "{'A': 144000.0, 'B': 374400.0, 'C': None, 'D': 0.0, 'E': 86400.0}"
      ]
     },
     "execution_count": 141,
     "metadata": {},
     "output_type": "execute_result"
    }
   ],
   "source": [
    "grafo_temporal.average_temporal_proximity_to_node('D')"
   ]
  },
  {
   "cell_type": "markdown",
   "metadata": {},
   "source": [
    "Columna para el nodo 'D:' "
   ]
  },
  {
   "cell_type": "code",
   "execution_count": 140,
   "metadata": {},
   "outputs": [
    {
     "name": "stdout",
     "output_type": "stream",
     "text": [
      "[1.6666666666666667, 4.333333333333333, None, 0.0, 1.0]\n"
     ]
    }
   ],
   "source": [
    "aux = grafo_temporal.average_temporal_proximity_to_node('D')\n",
    "print(\n",
    "    [seconds_to_days(proximity) for proximity in aux.values()])"
   ]
  },
  {
   "cell_type": "code",
   "execution_count": 145,
   "metadata": {},
   "outputs": [
    {
     "data": {
      "text/plain": [
       "201600.0"
      ]
     },
     "execution_count": 145,
     "metadata": {},
     "output_type": "execute_result"
    }
   ],
   "source": [
    "grafo_temporal.average_temporal_reachability('D')"
   ]
  },
  {
   "cell_type": "code",
   "execution_count": 149,
   "metadata": {},
   "outputs": [
    {
     "name": "stdout",
     "output_type": "stream",
     "text": [
      "[1.6666666666666667, 4.333333333333333, None, 0.0, 1.0] --> P in: 2.3333333333333335\n"
     ]
    }
   ],
   "source": [
    "aux = grafo_temporal.average_temporal_proximity_to_node('D')\n",
    "print(\n",
    "    [seconds_to_days(proximity) for proximity in aux.values()],\n",
    "    '--> P in:',\n",
    "    seconds_to_days(grafo_temporal.average_temporal_reachability('D'))\n",
    ")\n"
   ]
  },
  {
   "cell_type": "code",
   "execution_count": null,
   "metadata": {},
   "outputs": [],
   "source": []
  }
 ],
 "metadata": {
  "kernelspec": {
   "display_name": "Python 3",
   "language": "python",
   "name": "python3"
  },
  "language_info": {
   "codemirror_mode": {
    "name": "ipython",
    "version": 3
   },
   "file_extension": ".py",
   "mimetype": "text/x-python",
   "name": "python",
   "nbconvert_exporter": "python",
   "pygments_lexer": "ipython3",
   "version": "3.6.5"
  }
 },
 "nbformat": 4,
 "nbformat_minor": 2
}
